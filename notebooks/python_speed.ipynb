{
 "cells": [
  {
   "cell_type": "markdown",
   "metadata": {
    "collapsed": false,
    "pycharm": {
     "name": "#%% md\n"
    }
   },
   "source": [
    "## Improving Python code examples"
   ]
  },
  {
   "cell_type": "code",
   "execution_count": 2,
   "metadata": {
    "collapsed": false,
    "pycharm": {
     "is_executing": true,
     "name": "#%%\n"
    }
   },
   "outputs": [],
   "source": [
    "import time\n",
    "import numpy as np\n",
    "import pandas as pd\n",
    "import pyworms\n",
    "import math"
   ]
  },
  {
   "cell_type": "code",
   "execution_count": 1,
   "metadata": {
    "pycharm": {
     "name": "#%%\n"
    }
   },
   "outputs": [],
   "source": [
    "for x in range(500):\n",
    "    # this line will be executed 500 times\n",
    "    for y in range(300):\n",
    "        # this lines will be executed 150,000 times!\n",
    "        for z in range(200):\n",
    "            # this line will be executed 30,000,000 times!\n",
    "            3 + 7\n",
    "# Time complexity is O(xyz) (matches O(n^3) pattern)"
   ]
  },
  {
   "cell_type": "code",
   "execution_count": 12,
   "metadata": {
    "collapsed": false,
    "pycharm": {
     "is_executing": true,
     "name": "#%%\n"
    }
   },
   "outputs": [
    {
     "name": "stdout",
     "output_type": "stream",
     "text": [
      "loop sum: 0.0654 s\n",
      "python sum: 0.0247 s\n",
      "numpy sum: 0.002 s\n",
      "wrong numpy sum: 0.0688 s\n"
     ]
    }
   ],
   "source": [
    "samples = 1000000\n",
    "\n",
    "count = 0\n",
    "start = time.perf_counter()\n",
    "for x in range(samples):\n",
    "    count += 1\n",
    "end = time.perf_counter()\n",
    "print(f'loop sum: {round(end - start, 4)} s')\n",
    "\n",
    "start = time.perf_counter()\n",
    "sum(range(samples))\n",
    "end = time.perf_counter()\n",
    "print(f'python sum: {round(end - start, 4)} s')\n",
    "\n",
    "start = time.perf_counter()\n",
    "np.sum(np.arange(samples))\n",
    "end = time.perf_counter()\n",
    "print(f'numpy sum: {round(end - start, 4)} s')\n",
    "\n",
    "# Make sure to use numpy functions otherwise performance gains are negated!\n",
    "start = time.perf_counter()\n",
    "np.sum(np.array(range(samples)))\n",
    "end = time.perf_counter()\n",
    "print(f'wrong numpy sum: {round(end - start, 4)} s')"
   ]
  },
  {
   "cell_type": "code",
   "execution_count": 5,
   "metadata": {
    "pycharm": {
     "name": "#%%\n"
    }
   },
   "outputs": [
    {
     "name": "stdout",
     "output_type": "stream",
     "text": [
      "python natural log: 0.1765 s\n",
      "[None, 0.0, 0.6931471805599453, 1.0986122886681098, 1.3862943611198906]\n",
      "numpy natural log: 0.0152 s\n",
      "[0.         0.69314718 1.09861229 1.38629436 1.60943791]\n"
     ]
    }
   ],
   "source": [
    "samples = 1000000\n",
    "\n",
    "result = [None] * samples\n",
    "start = time.perf_counter()\n",
    "for i in range(1, samples):\n",
    "    result[i] = math.log(i)\n",
    "end = time.perf_counter()\n",
    "print(f'python natural log: {round(end - start, 4)} s')\n",
    "print(result[:5])\n",
    "\n",
    "vals = np.arange(1, samples)\n",
    "start = time.perf_counter()\n",
    "\n",
    "result = np.log(vals)\n",
    "\n",
    "end = time.perf_counter()\n",
    "print(f'numpy natural log: {round(end - start, 4)} s')\n",
    "print(result[:5])"
   ]
  },
  {
   "cell_type": "markdown",
   "metadata": {
    "pycharm": {
     "name": "#%% md\n"
    }
   },
   "source": [
    "Code was running slow so first identified the slow portion.\n",
    "Then simplified it using a built in function for faster runtime, and ease of use"
   ]
  },
  {
   "cell_type": "code",
   "execution_count": 2,
   "metadata": {
    "collapsed": false,
    "pycharm": {
     "is_executing": true,
     "name": "#%%\n"
    }
   },
   "outputs": [
    {
     "name": "stdout",
     "output_type": "stream",
     "text": [
      "pyworms many calls: 37.696094700018875 s\n",
      "pyworms one call: 6.6481369999819435 s\n"
     ]
    }
   ],
   "source": [
    "taxa: list = ['Carteria marina', 'Coccopterum labyrinthus', 'Dunaliella tertiolecta', 'Halosphaera minor', 'Halosphaera viridis']\n",
    "worms: list = []\n",
    "\n",
    "start = time.perf_counter()\n",
    "for species in taxa:  # iterate through DF for real version\n",
    "        result: list = pyworms.aphiaRecordsByMatchNames(species)[0]  # full taxa records from WoRMS\n",
    "        if len(result) > 0:\n",
    "            worms.append(result)\n",
    "end = time.perf_counter()\n",
    "print(f'pyworms many calls: {(end - start)} s')\n",
    "\n",
    "start = time.perf_counter()\n",
    "worms = pyworms.aphiaRecordsByMatchNames(taxa)\n",
    "end = time.perf_counter()\n",
    "print(f'pyworms one call: {(end - start)} s')"
   ]
  },
  {
   "cell_type": "code",
   "execution_count": null,
   "metadata": {
    "pycharm": {
     "name": "#%%\n"
    }
   },
   "outputs": [],
   "source": [
    "# a function\n",
    "data: list\n",
    "def calc_val():\n",
    "    for x in range(500):\n",
    "        for y in range(500):\n",
    "            # any lines executed here will run 250,000 times!\n",
    "            if mld_calc(data[x][y]) < 0.3:\n",
    "                # do something\n",
    "                3 + 4\n",
    "            elif mld_calc(data[x][y]) < 0.7:\n",
    "                # do something\n",
    "                4 + 3\n",
    "            else:\n",
    "                # do something\n",
    "                4 + 4"
   ]
  },
  {
   "cell_type": "markdown",
   "metadata": {
    "pycharm": {
     "name": "#%% md\n"
    }
   },
   "source": [
    "Problems\n",
    "- Nested loop\n",
    "    - Sometimes ok but there is probably a better way\n",
    "- mld_calc is getting called 500,000 times!\n",
    "- data[x][y] is getting called 500,000 times!"
   ]
  },
  {
   "cell_type": "code",
   "execution_count": null,
   "metadata": {
    "pycharm": {
     "name": "#%%\n"
    }
   },
   "outputs": [],
   "source": [
    "# a function\n",
    "data: list\n",
    "result: list\n",
    "def calc_val():\n",
    "    for x in range(500):\n",
    "        for y in range(500):\n",
    "            # any lines executed here will run 250,000 times!\n",
    "            mld_val = mld_calc(data[x][y])\n",
    "            if mld_val < 0.3:\n",
    "                # do something\n",
    "                3 + 4\n",
    "            elif mld_val < 0.7:\n",
    "                # do something\n",
    "                4 + 3\n",
    "            else:\n",
    "                # do something\n",
    "                4 + 4"
   ]
  }
 ],
 "metadata": {
  "kernelspec": {
   "display_name": "Python 3.10.4 64-bit",
   "language": "python",
   "name": "python3"
  },
  "language_info": {
   "codemirror_mode": {
    "name": "ipython",
    "version": 3
   },
   "file_extension": ".py",
   "mimetype": "text/x-python",
   "name": "python",
   "nbconvert_exporter": "python",
   "pygments_lexer": "ipython3",
   "version": "3.10.4"
  },
  "vscode": {
   "interpreter": {
    "hash": "369f2c481f4da34e4445cda3fffd2e751bd1c4d706f27375911949ba6bb62e1c"
   }
  }
 },
 "nbformat": 4,
 "nbformat_minor": 0
}