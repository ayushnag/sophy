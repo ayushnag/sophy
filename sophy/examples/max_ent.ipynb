{
 "cells": [
  {
   "cell_type": "code",
   "execution_count": null,
   "metadata": {},
   "outputs": [],
   "source": [
    "import numpy as np\n",
    "import pandas as pd\n",
    "import matplotlib.pyplot as plt\n",
    "import tqdm\n",
    "import cartopy\n",
    "import cartopy.crs as ccrs\n",
    "import cmocean\n",
    "import xarray as xr"
   ]
  },
  {
   "attachments": {},
   "cell_type": "markdown",
   "metadata": {},
   "source": [
    "# Maximum Entropy Species Distribution Modeling\n",
    "- Using MaxEnt model with B-SOSE Southern Ocean State Estimate and SOPHY phytoplankton presence data to build seasonal species distribution models"
   ]
  },
  {
   "cell_type": "code",
   "execution_count": null,
   "metadata": {},
   "outputs": [],
   "source": [
    "def so_ax():\n",
    "  map_proj = ccrs.SouthPolarStereo()\n",
    "  fig = plt.figure(figsize=[12, 12])  # inches\n",
    "  ax = plt.subplot(projection=map_proj)\n",
    "  ax.set_extent([-180, 180, -90, -40], ccrs.PlateCarree())\n",
    "  ax.gridlines(linestyle='--', draw_labels=True)\n",
    "  ax.add_feature(cartopy.feature.LAND)\n",
    "  return ax "
   ]
  },
  {
   "attachments": {},
   "cell_type": "markdown",
   "metadata": {},
   "source": [
    "## Raw B-SOSE data processing\n",
    "- In: monthly averages for 5 year span (2013-2017) per environmental variable\n",
    "- Out: 4 seasonal averages (fall, winter, spring, summer) per environmental variable"
   ]
  },
  {
   "cell_type": "code",
   "execution_count": null,
   "metadata": {},
   "outputs": [],
   "source": [
    "# austral spring (September–November), summer (December–February), autumn (March–May), and winter (June–August)\n",
    "# summer = [59-61], autumn = [62-64], winter = [65-67], spring = [68-70]\n",
    "\n",
    "# mapping season to indexes in BSOSE i133_2013to2018_monthly representative of each season\n",
    "seasons: dict = {'summer': [59, 60, 61], 'fall': [62, 63, 64], 'winter': [65, 66, 67], 'spring': [68, 69, 70]}\n",
    "\n",
    "var_info = {'THETA': {'cmap': cmocean.cm.thermal, 'simple_name': 'temperature', 'file_prefix': 'Theta', 'vmin': -5},\n",
    "            'SIarea': {'cmap': cmocean.cm.ice, 'simple_name': 'sea_ice_extent', 'file_prefix': 'SeaIceArea', 'vmin': 0},\n",
    "            'SALT': {'cmap': cmocean.cm.haline, 'simple_name': 'salinity', 'file_prefix': 'Salt', 'vmin': 30},\n",
    "            'TRAC03': {'cmap': cmocean.cm.haline, 'simple_name': 'oxygen', 'file_prefix': 'O2', 'vmin': 0},\n",
    "            'TRAC04': {'cmap': cmocean.cm.matter, 'simple_name': 'nitrate', 'file_prefix': 'NO3', 'vmin': 0},\n",
    "            'BLGCHL': {'cmap': cmocean.cm.algae, 'simple_name': 'chlorophyll', 'file_prefix': 'Chl', 'vmin': 0}}"
   ]
  },
  {
   "cell_type": "code",
   "execution_count": null,
   "metadata": {},
   "outputs": [],
   "source": [
    "fig, axes = plt.subplots(len(var_info), len(seasons), figsize=(12, 12), subplot_kw={'projection': ccrs.SouthPolarStereo()})\n",
    "for i, var in enumerate(tqdm(var_info.keys())):\n",
    "    for j, season in enumerate(tqdm(seasons.keys(), leave=False)):\n",
    "        ax = axes[i][j]\n",
    "        ax.set_extent([-180, 180, -90, -40], ccrs.PlateCarree())\n",
    "        ds = xr.open_dataset('../data/in/bsose/bsose_i133_2013to2018_monthly_' + var_info.get(var)['file_prefix'] + '.nc')\n",
    "        if var == 'SIarea':\n",
    "          ds = ds[var][seasons.get(season), :, :].mean(dim='time')\n",
    "        else:\n",
    "          ds = ds[var][seasons.get(season), 7, :, :].mean(dim='time')\n",
    "          ds = ds.where(ds > var_info.get(var)['vmin'])\n",
    "        ds.plot.pcolormesh(x=\"XC\", y=\"YC\", ax=ax, transform=ccrs.PlateCarree(), cmap=var_info.get(var)['cmap'])\n",
    "        ax.add_feature(cartopy.feature.LAND, zorder=2)\n",
    "        # ds.to_netcdf(f'../data/maxent/in/bsose_processed/netcdf/{var_info.get(var)[\"simple_name\"]}_{season}.nc')"
   ]
  },
  {
   "attachments": {},
   "cell_type": "markdown",
   "metadata": {},
   "source": [
    "## Plotting processed B-SOSE environmental layers"
   ]
  },
  {
   "cell_type": "code",
   "execution_count": null,
   "metadata": {},
   "outputs": [],
   "source": [
    "# TODO: make shared colorbar for each variable and season labels\n",
    "\n",
    "# Open the newly processed datasets and plot them\n",
    "fig, axes = plt.subplots(len(var_info), len(seasons), figsize=(16, 16), subplot_kw={'projection': ccrs.SouthPolarStereo()})\n",
    "for i, var in enumerate(tqdm(var_info.keys())):\n",
    "    for j, season in enumerate(tqdm(seasons.keys(), leave=False)):\n",
    "        ax = axes[i][j]\n",
    "        ax.set_extent([-180, 180, -90, -40], ccrs.PlateCarree())\n",
    "        ds = xr.open_dataset(f'../data/maxent/in/bsose_processed/netcdf/{var_info.get(var)[\"simple_name\"]}_{season}.nc')\n",
    "        ds[var].plot.pcolormesh(x=\"XC\", y=\"YC\", ax=ax, transform=ccrs.PlateCarree(), cmap=var_info.get(var)['cmap'])\n",
    "        ax.add_feature(cartopy.feature.LAND, zorder=2)"
   ]
  }
 ],
 "metadata": {
  "language_info": {
   "name": "python"
  },
  "orig_nbformat": 4
 },
 "nbformat": 4,
 "nbformat_minor": 2
}
