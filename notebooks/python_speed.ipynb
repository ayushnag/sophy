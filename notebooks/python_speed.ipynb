{
 "cells": [
  {
   "cell_type": "markdown",
   "metadata": {
    "collapsed": false,
    "pycharm": {
     "name": "#%% md\n"
    }
   },
   "source": [
    "## Improving Python code examples"
   ]
  },
  {
   "cell_type": "code",
   "execution_count": 1,
   "metadata": {
    "collapsed": false,
    "pycharm": {
     "is_executing": true,
     "name": "#%%\n"
    }
   },
   "outputs": [],
   "source": [
    "import time\n",
    "import numpy as np\n",
    "import pyworms"
   ]
  },
  {
   "cell_type": "code",
   "execution_count": 3,
   "metadata": {
    "collapsed": false,
    "pycharm": {
     "is_executing": true,
     "name": "#%%\n"
    }
   },
   "outputs": [
    {
     "name": "stdout",
     "output_type": "stream",
     "text": [
      "loop sum: 56.9300651550293 ms\n",
      "builtin sum: 34.392595291137695 ms\n",
      "numpy sum: 2.582550048828125 ms\n",
      "wrong numpy sum: 63.898324966430664 ms\n"
     ]
    }
   ],
   "source": [
    "count = 0\n",
    "start = time.time()\n",
    "for x in range(1000000):\n",
    "    # line is executed 5000 * 5000 times\n",
    "    count += 1\n",
    "end = time.time()\n",
    "print(f'loop sum: {(end - start) * 1000} ms')\n",
    "\n",
    "start = time.time()\n",
    "sum(range(1000000))\n",
    "end = time.time()\n",
    "print(f'builtin sum: {(end - start) * 1000} ms')\n",
    "\n",
    "start = time.time()\n",
    "np.sum(np.arange(0, 1000000))\n",
    "end = time.time()\n",
    "print(f'numpy sum: {(end - start) * 1000} ms')\n",
    "\n",
    "# Make sure to use numpy functions otherwise performance gains are negated!\n",
    "start = time.time()\n",
    "np.sum(np.array(range(1000000)))\n",
    "end = time.time()\n",
    "print(f'wrong numpy sum: {(end - start) * 1000} ms')"
   ]
  },
  {
   "cell_type": "code",
   "execution_count": 2,
   "metadata": {
    "collapsed": false,
    "pycharm": {
     "is_executing": true,
     "name": "#%%\n"
    }
   },
   "outputs": [
    {
     "name": "stdout",
     "output_type": "stream",
     "text": [
      "pyworms many calls: 42175.29296875 ms\n",
      "\n",
      "pyworms one call: 9525.270223617554 ms\n"
     ]
    }
   ],
   "source": [
    "taxa: list = ['Carteria marina', 'Coccopterum labyrinthus', 'Dunaliella tertiolecta', 'Halosphaera minor', 'Halosphaera viridis']\n",
    "worms: list = []\n",
    "\n",
    "start = time.time()\n",
    "for species in taxa:  # iterate through DF for real version\n",
    "        result: list = pyworms.aphiaRecordsByMatchNames(species)[0]  # full taxa records from WoRMS\n",
    "        if len(result) > 0:\n",
    "            worms.append(result)\n",
    "end = time.time()\n",
    "print(f'pyworms many calls: {(end - start) * 1000} ms')\n",
    "\n",
    "print()\n",
    "\n",
    "start = time.time()\n",
    "worms = pyworms.aphiaRecordsByMatchNames(taxa)\n",
    "end = time.time()\n",
    "print(f'pyworms one call: {(end - start) * 1000} ms')"
   ]
  }
 ],
 "metadata": {
  "kernelspec": {
   "display_name": "Python 3.10.4 64-bit",
   "language": "python",
   "name": "python3"
  },
  "language_info": {
   "codemirror_mode": {
    "name": "ipython",
    "version": 3
   },
   "file_extension": ".py",
   "mimetype": "text/x-python",
   "name": "python",
   "nbconvert_exporter": "python",
   "pygments_lexer": "ipython3",
   "version": "3.10.4"
  },
  "vscode": {
   "interpreter": {
    "hash": "369f2c481f4da34e4445cda3fffd2e751bd1c4d706f27375911949ba6bb62e1c"
   }
  }
 },
 "nbformat": 4,
 "nbformat_minor": 0
}
