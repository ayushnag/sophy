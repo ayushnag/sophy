{
 "cells": [
  {
   "cell_type": "code",
   "execution_count": null,
   "metadata": {},
   "outputs": [],
   "source": [
    "import pandas as pd"
   ]
  },
  {
   "cell_type": "code",
   "execution_count": null,
   "metadata": {},
   "outputs": [],
   "source": [
    "# TODO: should I use specific lat/lon's or the 4 regions from the paper?\n",
    "# TODO: there is no chl_a_fluor, salinity, temperature, dic, etc. Is that fine?\n",
    "# - \n",
    "# TODO: Just to confirm, for S7 I should divide all chemtax values by chl_a\n",
    "# - Just check that all chemtax add up to 1 for each sample\n",
    "\n",
    "# TODO: Email Viljoen\n",
    "# - Ask for temp, salinity, depth, and nutrients at the same detail level of HPLC\n",
    "# - Use Hannah’s template email (we will cite your work if we can include it)"
   ]
  },
  {
   "cell_type": "code",
   "execution_count": null,
   "metadata": {},
   "outputs": [],
   "source": []
  }
 ],
 "metadata": {
  "language_info": {
   "name": "python"
  }
 },
 "nbformat": 4,
 "nbformat_minor": 2
}
