{
 "cells": [
  {
   "cell_type": "markdown",
   "source": [
    "## Transformations used to convert original dataset to match SOPHY"
   ],
   "metadata": {
    "collapsed": false,
    "pycharm": {
     "name": "#%% md\n"
    }
   }
  },
  {
   "cell_type": "code",
   "execution_count": 1,
   "outputs": [],
   "source": [
    "import pandas as pd\n",
    "import numpy as np\n",
    "import sqlite3\n",
    "import geolabel\n",
    "import sophysql\n",
    "import sophytaxa\n",
    "import cartopy.crs as ccrs\n",
    "import geopandas as gpd\n",
    "from geopandas import GeoDataFrame\n",
    "from pandas import DataFrame"
   ],
   "metadata": {
    "collapsed": false,
    "pycharm": {
     "name": "#%%\n"
    }
   }
  },
  {
   "cell_type": "code",
   "execution_count": 20,
   "outputs": [],
   "source": [
    "con = sqlite3.connect(\"test.db\")\n",
    "with open('schema.sql', 'r') as sql_file:\n",
    "    con.executescript(sql_file.read())\n",
    "con.commit()"
   ],
   "metadata": {
    "collapsed": false,
    "pycharm": {
     "name": "#%%\n"
    }
   }
  },
  {
   "cell_type": "code",
   "execution_count": 32,
   "outputs": [
    {
     "data": {
      "text/plain": "          id source_name   cruise  latitude  longitude            timestamp  \\\n0          1        None  PD91-09 -64.83333  -64.05167  1991-11-07 00:36:00   \n1          2        None  PD91-09 -64.83333  -64.05167  1991-11-07 00:36:00   \n2          3        None  PD91-09 -64.83333  -64.05167  1991-11-07 00:36:00   \n3          4        None  PD91-09 -64.83333  -64.05167  1991-11-07 00:36:00   \n4          5        None  PD91-09 -64.83333  -64.05167  1991-11-07 00:36:00   \n...      ...         ...      ...       ...        ...                  ...   \n49220  49221        None  PAL2021 -64.81500  -64.04050  2021-05-04 00:00:00   \n49221  49222        None  PAL2021 -64.81500  -64.04050  2021-05-04 00:00:00   \n49222  49223        None  PAL2021 -64.81500  -64.04050  2021-05-04 00:00:00   \n49223  49224        None  PAL2021 -64.81500  -64.04050  2021-05-04 00:00:00   \n49224  49225        None  PAL2021 -64.47249  -63.04499  2021-05-04 00:00:00   \n\n      front_zone sector  percent_phaeo  percent_diatom  ...     chl_a  \\\n0            SIZ   None       0.000000        0.000603  ...  0.397000   \n1            SIZ   None            NaN             NaN  ...  0.298000   \n2            SIZ   None       0.000000        0.000000  ...  0.265000   \n3            SIZ   None            NaN             NaN  ...       NaN   \n4            SIZ   None       0.073917        0.388492  ...  0.284000   \n...          ...    ...            ...             ...  ...       ...   \n49220        SIZ   None            NaN             NaN  ...  0.533521   \n49221        SIZ   None            NaN             NaN  ...  0.488506   \n49222        SIZ   None            NaN             NaN  ...  0.430152   \n49223        SIZ   None            NaN             NaN  ...  0.355125   \n49224        SIZ   None            NaN             NaN  ...  0.415146   \n\n       salinity  temperature   mld  par nitrate  nitrite  phosphate  silicate  \\\n0        33.791      -1.7618  None  NaN     NaN      NaN        NaN       NaN   \n1        33.798      -1.7445  None  NaN     NaN      NaN        NaN       NaN   \n2        33.820      -1.6974  None  NaN     NaN      NaN        NaN       NaN   \n3        33.846      -1.6188  None  NaN     NaN      NaN        NaN       NaN   \n4        33.879      -1.4717  None  NaN     NaN      NaN        NaN       NaN   \n...         ...          ...   ...  ...     ...      ...        ...       ...   \n49220       NaN          NaN  None  NaN     NaN      NaN        NaN       NaN   \n49221       NaN          NaN  None  NaN     NaN      NaN        NaN       NaN   \n49222       NaN          NaN  None  NaN     NaN      NaN        NaN       NaN   \n49223       NaN          NaN  None  NaN     NaN      NaN        NaN       NaN   \n49224       NaN          NaN  None  NaN     NaN      NaN        NaN       NaN   \n\n                                              extra_json  \n0      {\"cryptophytes\":0.0,\"diatoms\":0.000602825,\"hap...  \n1      {\"notes\":\"**HPLC in datazoo file listed as ug\\...  \n2      {\"cryptophytes\":0.0,\"diatoms\":0.0,\"haptophytes...  \n3         {\"part_org_carbon\":123.16,\"tot_nitrogen\":17.0}  \n4      {\"cryptophytes\":0.001472699,\"diatoms\":0.388492...  \n...                                                  ...  \n49220                      {\"phaeopigments\":0.113480187}  \n49221                        {\"phaeopigments\":0.1093088}  \n49222                      {\"phaeopigments\":0.190364512}  \n49223                      {\"phaeopigments\":0.081884662}  \n49224                       {\"phaeopigments\":0.26590796}  \n\n[49225 rows x 22 columns]",
      "text/html": "<div>\n<style scoped>\n    .dataframe tbody tr th:only-of-type {\n        vertical-align: middle;\n    }\n\n    .dataframe tbody tr th {\n        vertical-align: top;\n    }\n\n    .dataframe thead th {\n        text-align: right;\n    }\n</style>\n<table border=\"1\" class=\"dataframe\">\n  <thead>\n    <tr style=\"text-align: right;\">\n      <th></th>\n      <th>id</th>\n      <th>source_name</th>\n      <th>cruise</th>\n      <th>latitude</th>\n      <th>longitude</th>\n      <th>timestamp</th>\n      <th>front_zone</th>\n      <th>sector</th>\n      <th>percent_phaeo</th>\n      <th>percent_diatom</th>\n      <th>...</th>\n      <th>chl_a</th>\n      <th>salinity</th>\n      <th>temperature</th>\n      <th>mld</th>\n      <th>par</th>\n      <th>nitrate</th>\n      <th>nitrite</th>\n      <th>phosphate</th>\n      <th>silicate</th>\n      <th>extra_json</th>\n    </tr>\n  </thead>\n  <tbody>\n    <tr>\n      <th>0</th>\n      <td>1</td>\n      <td>None</td>\n      <td>PD91-09</td>\n      <td>-64.83333</td>\n      <td>-64.05167</td>\n      <td>1991-11-07 00:36:00</td>\n      <td>SIZ</td>\n      <td>None</td>\n      <td>0.000000</td>\n      <td>0.000603</td>\n      <td>...</td>\n      <td>0.397000</td>\n      <td>33.791</td>\n      <td>-1.7618</td>\n      <td>None</td>\n      <td>NaN</td>\n      <td>NaN</td>\n      <td>NaN</td>\n      <td>NaN</td>\n      <td>NaN</td>\n      <td>{\"cryptophytes\":0.0,\"diatoms\":0.000602825,\"hap...</td>\n    </tr>\n    <tr>\n      <th>1</th>\n      <td>2</td>\n      <td>None</td>\n      <td>PD91-09</td>\n      <td>-64.83333</td>\n      <td>-64.05167</td>\n      <td>1991-11-07 00:36:00</td>\n      <td>SIZ</td>\n      <td>None</td>\n      <td>NaN</td>\n      <td>NaN</td>\n      <td>...</td>\n      <td>0.298000</td>\n      <td>33.798</td>\n      <td>-1.7445</td>\n      <td>None</td>\n      <td>NaN</td>\n      <td>NaN</td>\n      <td>NaN</td>\n      <td>NaN</td>\n      <td>NaN</td>\n      <td>{\"notes\":\"**HPLC in datazoo file listed as ug\\...</td>\n    </tr>\n    <tr>\n      <th>2</th>\n      <td>3</td>\n      <td>None</td>\n      <td>PD91-09</td>\n      <td>-64.83333</td>\n      <td>-64.05167</td>\n      <td>1991-11-07 00:36:00</td>\n      <td>SIZ</td>\n      <td>None</td>\n      <td>0.000000</td>\n      <td>0.000000</td>\n      <td>...</td>\n      <td>0.265000</td>\n      <td>33.820</td>\n      <td>-1.6974</td>\n      <td>None</td>\n      <td>NaN</td>\n      <td>NaN</td>\n      <td>NaN</td>\n      <td>NaN</td>\n      <td>NaN</td>\n      <td>{\"cryptophytes\":0.0,\"diatoms\":0.0,\"haptophytes...</td>\n    </tr>\n    <tr>\n      <th>3</th>\n      <td>4</td>\n      <td>None</td>\n      <td>PD91-09</td>\n      <td>-64.83333</td>\n      <td>-64.05167</td>\n      <td>1991-11-07 00:36:00</td>\n      <td>SIZ</td>\n      <td>None</td>\n      <td>NaN</td>\n      <td>NaN</td>\n      <td>...</td>\n      <td>NaN</td>\n      <td>33.846</td>\n      <td>-1.6188</td>\n      <td>None</td>\n      <td>NaN</td>\n      <td>NaN</td>\n      <td>NaN</td>\n      <td>NaN</td>\n      <td>NaN</td>\n      <td>{\"part_org_carbon\":123.16,\"tot_nitrogen\":17.0}</td>\n    </tr>\n    <tr>\n      <th>4</th>\n      <td>5</td>\n      <td>None</td>\n      <td>PD91-09</td>\n      <td>-64.83333</td>\n      <td>-64.05167</td>\n      <td>1991-11-07 00:36:00</td>\n      <td>SIZ</td>\n      <td>None</td>\n      <td>0.073917</td>\n      <td>0.388492</td>\n      <td>...</td>\n      <td>0.284000</td>\n      <td>33.879</td>\n      <td>-1.4717</td>\n      <td>None</td>\n      <td>NaN</td>\n      <td>NaN</td>\n      <td>NaN</td>\n      <td>NaN</td>\n      <td>NaN</td>\n      <td>{\"cryptophytes\":0.001472699,\"diatoms\":0.388492...</td>\n    </tr>\n    <tr>\n      <th>...</th>\n      <td>...</td>\n      <td>...</td>\n      <td>...</td>\n      <td>...</td>\n      <td>...</td>\n      <td>...</td>\n      <td>...</td>\n      <td>...</td>\n      <td>...</td>\n      <td>...</td>\n      <td>...</td>\n      <td>...</td>\n      <td>...</td>\n      <td>...</td>\n      <td>...</td>\n      <td>...</td>\n      <td>...</td>\n      <td>...</td>\n      <td>...</td>\n      <td>...</td>\n      <td>...</td>\n    </tr>\n    <tr>\n      <th>49220</th>\n      <td>49221</td>\n      <td>None</td>\n      <td>PAL2021</td>\n      <td>-64.81500</td>\n      <td>-64.04050</td>\n      <td>2021-05-04 00:00:00</td>\n      <td>SIZ</td>\n      <td>None</td>\n      <td>NaN</td>\n      <td>NaN</td>\n      <td>...</td>\n      <td>0.533521</td>\n      <td>NaN</td>\n      <td>NaN</td>\n      <td>None</td>\n      <td>NaN</td>\n      <td>NaN</td>\n      <td>NaN</td>\n      <td>NaN</td>\n      <td>NaN</td>\n      <td>{\"phaeopigments\":0.113480187}</td>\n    </tr>\n    <tr>\n      <th>49221</th>\n      <td>49222</td>\n      <td>None</td>\n      <td>PAL2021</td>\n      <td>-64.81500</td>\n      <td>-64.04050</td>\n      <td>2021-05-04 00:00:00</td>\n      <td>SIZ</td>\n      <td>None</td>\n      <td>NaN</td>\n      <td>NaN</td>\n      <td>...</td>\n      <td>0.488506</td>\n      <td>NaN</td>\n      <td>NaN</td>\n      <td>None</td>\n      <td>NaN</td>\n      <td>NaN</td>\n      <td>NaN</td>\n      <td>NaN</td>\n      <td>NaN</td>\n      <td>{\"phaeopigments\":0.1093088}</td>\n    </tr>\n    <tr>\n      <th>49222</th>\n      <td>49223</td>\n      <td>None</td>\n      <td>PAL2021</td>\n      <td>-64.81500</td>\n      <td>-64.04050</td>\n      <td>2021-05-04 00:00:00</td>\n      <td>SIZ</td>\n      <td>None</td>\n      <td>NaN</td>\n      <td>NaN</td>\n      <td>...</td>\n      <td>0.430152</td>\n      <td>NaN</td>\n      <td>NaN</td>\n      <td>None</td>\n      <td>NaN</td>\n      <td>NaN</td>\n      <td>NaN</td>\n      <td>NaN</td>\n      <td>NaN</td>\n      <td>{\"phaeopigments\":0.190364512}</td>\n    </tr>\n    <tr>\n      <th>49223</th>\n      <td>49224</td>\n      <td>None</td>\n      <td>PAL2021</td>\n      <td>-64.81500</td>\n      <td>-64.04050</td>\n      <td>2021-05-04 00:00:00</td>\n      <td>SIZ</td>\n      <td>None</td>\n      <td>NaN</td>\n      <td>NaN</td>\n      <td>...</td>\n      <td>0.355125</td>\n      <td>NaN</td>\n      <td>NaN</td>\n      <td>None</td>\n      <td>NaN</td>\n      <td>NaN</td>\n      <td>NaN</td>\n      <td>NaN</td>\n      <td>NaN</td>\n      <td>{\"phaeopigments\":0.081884662}</td>\n    </tr>\n    <tr>\n      <th>49224</th>\n      <td>49225</td>\n      <td>None</td>\n      <td>PAL2021</td>\n      <td>-64.47249</td>\n      <td>-63.04499</td>\n      <td>2021-05-04 00:00:00</td>\n      <td>SIZ</td>\n      <td>None</td>\n      <td>NaN</td>\n      <td>NaN</td>\n      <td>...</td>\n      <td>0.415146</td>\n      <td>NaN</td>\n      <td>NaN</td>\n      <td>None</td>\n      <td>NaN</td>\n      <td>NaN</td>\n      <td>NaN</td>\n      <td>NaN</td>\n      <td>NaN</td>\n      <td>{\"phaeopigments\":0.26590796}</td>\n    </tr>\n  </tbody>\n</table>\n<p>49225 rows × 22 columns</p>\n</div>"
     },
     "execution_count": 32,
     "metadata": {},
     "output_type": "execute_result"
    }
   ],
   "source": [
    "pd.read_sql(sql=\"select * from sample\", con=con)"
   ],
   "metadata": {
    "collapsed": false,
    "pycharm": {
     "name": "#%%\n"
    }
   }
  },
  {
   "cell_type": "markdown",
   "source": [
    "1) Palmer LTER dataset\n",
    "- Link to source and info"
   ],
   "metadata": {
    "collapsed": false,
    "pycharm": {
     "name": "#%% md\n"
    }
   }
  },
  {
   "cell_type": "code",
   "execution_count": 3,
   "outputs": [
    {
     "data": {
      "text/plain": "                 timestamp  latitude  longitude     depth  temperature  \\\n0      1991-11-07 00:36:00 -64.83333  -64.05167   2.14998      -1.7618   \n1      1991-11-07 00:36:00 -64.83333  -64.05167  10.48500      -1.7445   \n2      1991-11-07 00:36:00 -64.83333  -64.05167  20.44900      -1.6974   \n3      1991-11-07 00:36:00 -64.83333  -64.05167  30.60000      -1.6188   \n4      1991-11-07 00:36:00 -64.83333  -64.05167  40.54660      -1.4717   \n...                    ...       ...        ...       ...          ...   \n19341  2021-05-04 00:00:00 -64.81500  -64.04050  20.00000          NaN   \n19342  2021-05-04 00:00:00 -64.81500  -64.04050  35.00000          NaN   \n19343  2021-05-04 00:00:00 -64.81500  -64.04050  50.00000          NaN   \n19344  2021-05-04 00:00:00 -64.81500  -64.04050  65.00000          NaN   \n19345  2021-05-04 00:00:00 -64.47249  -63.04499   0.00000          NaN   \n\n       salinity     chl_a   cruise  par  nitrate  nitrite  silicate  \\\n0        33.791  0.397000  PD91-09  NaN      NaN      NaN       NaN   \n1        33.798  0.298000  PD91-09  NaN      NaN      NaN       NaN   \n2        33.820  0.265000  PD91-09  NaN      NaN      NaN       NaN   \n3        33.846       NaN  PD91-09  NaN      NaN      NaN       NaN   \n4        33.879  0.284000  PD91-09  NaN      NaN      NaN       NaN   \n...         ...       ...      ...  ...      ...      ...       ...   \n19341       NaN  0.533521  PAL2021  NaN      NaN      NaN       NaN   \n19342       NaN  0.488506  PAL2021  NaN      NaN      NaN       NaN   \n19343       NaN  0.430152  PAL2021  NaN      NaN      NaN       NaN   \n19344       NaN  0.355125  PAL2021  NaN      NaN      NaN       NaN   \n19345       NaN  0.415146  PAL2021  NaN      NaN      NaN       NaN   \n\n       phosphate  percent_phaeo  percent_diatom  percent_other front_zone  \\\n0            NaN       0.000000        0.000603       0.999397        SIZ   \n1            NaN            NaN             NaN            NaN        SIZ   \n2            NaN       0.000000        0.000000       1.000000        SIZ   \n3            NaN            NaN             NaN            NaN        SIZ   \n4            NaN       0.073917        0.388492       0.537591        SIZ   \n...          ...            ...             ...            ...        ...   \n19341        NaN            NaN             NaN            NaN        SIZ   \n19342        NaN            NaN             NaN            NaN        SIZ   \n19343        NaN            NaN             NaN            NaN        SIZ   \n19344        NaN            NaN             NaN            NaN        SIZ   \n19345        NaN            NaN             NaN            NaN        SIZ   \n\n                                              extra_json  \n0      {\"cryptophytes\":0.0,\"diatoms\":0.000602825,\"hap...  \n1      {\"notes\":\"**HPLC in datazoo file listed as ug\\...  \n2      {\"cryptophytes\":0.0,\"diatoms\":0.0,\"haptophytes...  \n3         {\"part_org_carbon\":123.16,\"tot_nitrogen\":17.0}  \n4      {\"cryptophytes\":0.001472699,\"diatoms\":0.388492...  \n...                                                  ...  \n19341                      {\"phaeopigments\":0.113480187}  \n19342                        {\"phaeopigments\":0.1093088}  \n19343                      {\"phaeopigments\":0.190364512}  \n19344                      {\"phaeopigments\":0.081884662}  \n19345                       {\"phaeopigments\":0.26590796}  \n\n[49225 rows x 18 columns]",
      "text/html": "<div>\n<style scoped>\n    .dataframe tbody tr th:only-of-type {\n        vertical-align: middle;\n    }\n\n    .dataframe tbody tr th {\n        vertical-align: top;\n    }\n\n    .dataframe thead th {\n        text-align: right;\n    }\n</style>\n<table border=\"1\" class=\"dataframe\">\n  <thead>\n    <tr style=\"text-align: right;\">\n      <th></th>\n      <th>timestamp</th>\n      <th>latitude</th>\n      <th>longitude</th>\n      <th>depth</th>\n      <th>temperature</th>\n      <th>salinity</th>\n      <th>chl_a</th>\n      <th>cruise</th>\n      <th>par</th>\n      <th>nitrate</th>\n      <th>nitrite</th>\n      <th>silicate</th>\n      <th>phosphate</th>\n      <th>percent_phaeo</th>\n      <th>percent_diatom</th>\n      <th>percent_other</th>\n      <th>front_zone</th>\n      <th>extra_json</th>\n    </tr>\n  </thead>\n  <tbody>\n    <tr>\n      <th>0</th>\n      <td>1991-11-07 00:36:00</td>\n      <td>-64.83333</td>\n      <td>-64.05167</td>\n      <td>2.14998</td>\n      <td>-1.7618</td>\n      <td>33.791</td>\n      <td>0.397000</td>\n      <td>PD91-09</td>\n      <td>NaN</td>\n      <td>NaN</td>\n      <td>NaN</td>\n      <td>NaN</td>\n      <td>NaN</td>\n      <td>0.000000</td>\n      <td>0.000603</td>\n      <td>0.999397</td>\n      <td>SIZ</td>\n      <td>{\"cryptophytes\":0.0,\"diatoms\":0.000602825,\"hap...</td>\n    </tr>\n    <tr>\n      <th>1</th>\n      <td>1991-11-07 00:36:00</td>\n      <td>-64.83333</td>\n      <td>-64.05167</td>\n      <td>10.48500</td>\n      <td>-1.7445</td>\n      <td>33.798</td>\n      <td>0.298000</td>\n      <td>PD91-09</td>\n      <td>NaN</td>\n      <td>NaN</td>\n      <td>NaN</td>\n      <td>NaN</td>\n      <td>NaN</td>\n      <td>NaN</td>\n      <td>NaN</td>\n      <td>NaN</td>\n      <td>SIZ</td>\n      <td>{\"notes\":\"**HPLC in datazoo file listed as ug\\...</td>\n    </tr>\n    <tr>\n      <th>2</th>\n      <td>1991-11-07 00:36:00</td>\n      <td>-64.83333</td>\n      <td>-64.05167</td>\n      <td>20.44900</td>\n      <td>-1.6974</td>\n      <td>33.820</td>\n      <td>0.265000</td>\n      <td>PD91-09</td>\n      <td>NaN</td>\n      <td>NaN</td>\n      <td>NaN</td>\n      <td>NaN</td>\n      <td>NaN</td>\n      <td>0.000000</td>\n      <td>0.000000</td>\n      <td>1.000000</td>\n      <td>SIZ</td>\n      <td>{\"cryptophytes\":0.0,\"diatoms\":0.0,\"haptophytes...</td>\n    </tr>\n    <tr>\n      <th>3</th>\n      <td>1991-11-07 00:36:00</td>\n      <td>-64.83333</td>\n      <td>-64.05167</td>\n      <td>30.60000</td>\n      <td>-1.6188</td>\n      <td>33.846</td>\n      <td>NaN</td>\n      <td>PD91-09</td>\n      <td>NaN</td>\n      <td>NaN</td>\n      <td>NaN</td>\n      <td>NaN</td>\n      <td>NaN</td>\n      <td>NaN</td>\n      <td>NaN</td>\n      <td>NaN</td>\n      <td>SIZ</td>\n      <td>{\"part_org_carbon\":123.16,\"tot_nitrogen\":17.0}</td>\n    </tr>\n    <tr>\n      <th>4</th>\n      <td>1991-11-07 00:36:00</td>\n      <td>-64.83333</td>\n      <td>-64.05167</td>\n      <td>40.54660</td>\n      <td>-1.4717</td>\n      <td>33.879</td>\n      <td>0.284000</td>\n      <td>PD91-09</td>\n      <td>NaN</td>\n      <td>NaN</td>\n      <td>NaN</td>\n      <td>NaN</td>\n      <td>NaN</td>\n      <td>0.073917</td>\n      <td>0.388492</td>\n      <td>0.537591</td>\n      <td>SIZ</td>\n      <td>{\"cryptophytes\":0.001472699,\"diatoms\":0.388492...</td>\n    </tr>\n    <tr>\n      <th>...</th>\n      <td>...</td>\n      <td>...</td>\n      <td>...</td>\n      <td>...</td>\n      <td>...</td>\n      <td>...</td>\n      <td>...</td>\n      <td>...</td>\n      <td>...</td>\n      <td>...</td>\n      <td>...</td>\n      <td>...</td>\n      <td>...</td>\n      <td>...</td>\n      <td>...</td>\n      <td>...</td>\n      <td>...</td>\n      <td>...</td>\n    </tr>\n    <tr>\n      <th>19341</th>\n      <td>2021-05-04 00:00:00</td>\n      <td>-64.81500</td>\n      <td>-64.04050</td>\n      <td>20.00000</td>\n      <td>NaN</td>\n      <td>NaN</td>\n      <td>0.533521</td>\n      <td>PAL2021</td>\n      <td>NaN</td>\n      <td>NaN</td>\n      <td>NaN</td>\n      <td>NaN</td>\n      <td>NaN</td>\n      <td>NaN</td>\n      <td>NaN</td>\n      <td>NaN</td>\n      <td>SIZ</td>\n      <td>{\"phaeopigments\":0.113480187}</td>\n    </tr>\n    <tr>\n      <th>19342</th>\n      <td>2021-05-04 00:00:00</td>\n      <td>-64.81500</td>\n      <td>-64.04050</td>\n      <td>35.00000</td>\n      <td>NaN</td>\n      <td>NaN</td>\n      <td>0.488506</td>\n      <td>PAL2021</td>\n      <td>NaN</td>\n      <td>NaN</td>\n      <td>NaN</td>\n      <td>NaN</td>\n      <td>NaN</td>\n      <td>NaN</td>\n      <td>NaN</td>\n      <td>NaN</td>\n      <td>SIZ</td>\n      <td>{\"phaeopigments\":0.1093088}</td>\n    </tr>\n    <tr>\n      <th>19343</th>\n      <td>2021-05-04 00:00:00</td>\n      <td>-64.81500</td>\n      <td>-64.04050</td>\n      <td>50.00000</td>\n      <td>NaN</td>\n      <td>NaN</td>\n      <td>0.430152</td>\n      <td>PAL2021</td>\n      <td>NaN</td>\n      <td>NaN</td>\n      <td>NaN</td>\n      <td>NaN</td>\n      <td>NaN</td>\n      <td>NaN</td>\n      <td>NaN</td>\n      <td>NaN</td>\n      <td>SIZ</td>\n      <td>{\"phaeopigments\":0.190364512}</td>\n    </tr>\n    <tr>\n      <th>19344</th>\n      <td>2021-05-04 00:00:00</td>\n      <td>-64.81500</td>\n      <td>-64.04050</td>\n      <td>65.00000</td>\n      <td>NaN</td>\n      <td>NaN</td>\n      <td>0.355125</td>\n      <td>PAL2021</td>\n      <td>NaN</td>\n      <td>NaN</td>\n      <td>NaN</td>\n      <td>NaN</td>\n      <td>NaN</td>\n      <td>NaN</td>\n      <td>NaN</td>\n      <td>NaN</td>\n      <td>SIZ</td>\n      <td>{\"phaeopigments\":0.081884662}</td>\n    </tr>\n    <tr>\n      <th>19345</th>\n      <td>2021-05-04 00:00:00</td>\n      <td>-64.47249</td>\n      <td>-63.04499</td>\n      <td>0.00000</td>\n      <td>NaN</td>\n      <td>NaN</td>\n      <td>0.415146</td>\n      <td>PAL2021</td>\n      <td>NaN</td>\n      <td>NaN</td>\n      <td>NaN</td>\n      <td>NaN</td>\n      <td>NaN</td>\n      <td>NaN</td>\n      <td>NaN</td>\n      <td>NaN</td>\n      <td>SIZ</td>\n      <td>{\"phaeopigments\":0.26590796}</td>\n    </tr>\n  </tbody>\n</table>\n<p>49225 rows × 18 columns</p>\n</div>"
     },
     "execution_count": 3,
     "metadata": {},
     "output_type": "execute_result"
    }
   ],
   "source": [
    "lter1 = pd.read_csv(\"../data/in/datasets/unmodified/AntarcticaLTERcompiledData_Cruise_forEDI.csv\")\n",
    "lter2 = pd.read_csv(\"../data/in/datasets/unmodified/AntarcticaLTERcompiledData_Station_forEDI.csv\")\n",
    "\n",
    "lter_sql: dict = {\"DatetimeGMT\": \"timestamp\", \"Latitude\": \"latitude\", \"Longitude\": \"longitude\",\n",
    "                  \"Depth\": \"depth\", \"Temperature\": \"temperature\", \"Salinity\": \"salinity\", \"Density\": \"density\",\n",
    "                  \"Chlorophyll\": \"chl_a\", \"Fluorescence\": \"fluorescence\", \"Phaeopigment\": \"phaeopigments\",\n",
    "                  \"PrimaryProduction\": \"primary_prod\", \"studyName\": \"cruise\", \"PAR\": \"par\",\n",
    "                  \"Prasinophytes\": \"prasinophytes\", \"Cryptophytes\": \"cryptophytes\",\n",
    "                  \"MixedFlagellates\": \"mixed_flagellates\", \"Diatoms\": \"diatoms\", \"Haptophytes\": \"haptophytes\",\n",
    "                  \"NO3\": \"nitrate\", \"NO2\": \"nitrite\", \"DIC1\": \"diss_inorg_carbon\", \"DOC\": \"diss_org_carbon\",\n",
    "                  \"POC\": \"part_org_carbon\", \"SiO4\": \"silicate\", \"N\": \"tot_nitrogen\",\n",
    "                  \"PO4\": \"phosphate\", \"Notes1\": \"notes\"}\n",
    "\n",
    "lter1 = lter1[lter_sql.keys()].rename(columns=lter_sql)\n",
    "lter2 = lter2[lter_sql.keys()].rename(columns=lter_sql)\n",
    "lter = pd.concat([lter1, lter2])\n",
    "lter = lter.dropna(subset=['timestamp', 'longitude', 'latitude'])\n",
    "# TODO: warning if any values were dropped\n",
    "lter = lter[lter['longitude'].between(-180, 180)]\n",
    "lter = lter[lter['latitude'] <= -30]\n",
    "# Group chemtax into three main categories\n",
    "lter['percent_phaeo'] = lter['haptophytes']\n",
    "lter['percent_diatom'] = lter['diatoms']\n",
    "lter['percent_other'] = lter['prasinophytes'] + lter['mixed_flagellates'] + lter['cryptophytes']\n",
    "\n",
    "data_gdf = GeoDataFrame(lter, geometry=gpd.points_from_xy(lter['longitude'], lter['latitude']), crs='EPSG:4326')\n",
    "data_gdf = data_gdf.to_crs(crs=ccrs.SouthPolarStereo())\n",
    "zones_gdf = gpd.read_file(geolabel.zones_shapefile).to_crs(ccrs.SouthPolarStereo())\n",
    "# Spatially join data points with zones (polygons) to get labelled data\n",
    "lter = DataFrame(data_gdf.sjoin(zones_gdf, how='left').drop(columns=['geometry', 'index_right']))\n",
    "extra = lter.columns.difference(sophysql.get_table_cols(\"sample\"))\n",
    "lter[\"extra_json\"] = lter[extra].agg(lambda r: r[r.notna()].to_json(), axis=1)\n",
    "lter = lter.drop(extra, axis=1)\n",
    "lter"
   ],
   "metadata": {
    "collapsed": false,
    "pycharm": {
     "name": "#%%\n"
    }
   }
  },
  {
   "cell_type": "code",
   "execution_count": 4,
   "outputs": [
    {
     "data": {
      "text/plain": "49225"
     },
     "execution_count": 4,
     "metadata": {},
     "output_type": "execute_result"
    }
   ],
   "source": [
    "lter.to_sql(name='sample', con=con, if_exists='append', index=False)"
   ],
   "metadata": {
    "collapsed": false,
    "pycharm": {
     "name": "#%%\n"
    }
   }
  },
  {
   "cell_type": "markdown",
   "source": [
    "2) Joy-Warren 2019 dataset\n",
    "- Link to source and info"
   ],
   "metadata": {
    "collapsed": false,
    "pycharm": {
     "name": "#%% md\n"
    }
   }
  },
  {
   "cell_type": "code",
   "execution_count": 18,
   "outputs": [
    {
     "data": {
      "text/plain": "                       name  biovolume  aphia_id  sample_id\n0                   pennate     613332       NaN      49607\n1                 Proboscia      39235  149167.0      49607\n2             Thalassiosira    3187660  148912.0      49607\n3            dinoflagellate        455       NaN      49607\n4                 Banquisia      96678  291402.0      49607\n..                      ...        ...       ...        ...\n132        Pseudo-nitzschia     165508  149151.0      49594\n133  Phaeocystis antarctica  263589832  341585.0      49594\n134        silicoflagellate        304       NaN      49594\n135               Guinardia     603307  149111.0      49594\n136               Corethron     200196  149109.0      49594\n\n[137 rows x 4 columns]",
      "text/html": "<div>\n<style scoped>\n    .dataframe tbody tr th:only-of-type {\n        vertical-align: middle;\n    }\n\n    .dataframe tbody tr th {\n        vertical-align: top;\n    }\n\n    .dataframe thead th {\n        text-align: right;\n    }\n</style>\n<table border=\"1\" class=\"dataframe\">\n  <thead>\n    <tr style=\"text-align: right;\">\n      <th></th>\n      <th>name</th>\n      <th>biovolume</th>\n      <th>aphia_id</th>\n      <th>sample_id</th>\n    </tr>\n  </thead>\n  <tbody>\n    <tr>\n      <th>0</th>\n      <td>pennate</td>\n      <td>613332</td>\n      <td>NaN</td>\n      <td>49607</td>\n    </tr>\n    <tr>\n      <th>1</th>\n      <td>Proboscia</td>\n      <td>39235</td>\n      <td>149167.0</td>\n      <td>49607</td>\n    </tr>\n    <tr>\n      <th>2</th>\n      <td>Thalassiosira</td>\n      <td>3187660</td>\n      <td>148912.0</td>\n      <td>49607</td>\n    </tr>\n    <tr>\n      <th>3</th>\n      <td>dinoflagellate</td>\n      <td>455</td>\n      <td>NaN</td>\n      <td>49607</td>\n    </tr>\n    <tr>\n      <th>4</th>\n      <td>Banquisia</td>\n      <td>96678</td>\n      <td>291402.0</td>\n      <td>49607</td>\n    </tr>\n    <tr>\n      <th>...</th>\n      <td>...</td>\n      <td>...</td>\n      <td>...</td>\n      <td>...</td>\n    </tr>\n    <tr>\n      <th>132</th>\n      <td>Pseudo-nitzschia</td>\n      <td>165508</td>\n      <td>149151.0</td>\n      <td>49594</td>\n    </tr>\n    <tr>\n      <th>133</th>\n      <td>Phaeocystis antarctica</td>\n      <td>263589832</td>\n      <td>341585.0</td>\n      <td>49594</td>\n    </tr>\n    <tr>\n      <th>134</th>\n      <td>silicoflagellate</td>\n      <td>304</td>\n      <td>NaN</td>\n      <td>49594</td>\n    </tr>\n    <tr>\n      <th>135</th>\n      <td>Guinardia</td>\n      <td>603307</td>\n      <td>149111.0</td>\n      <td>49594</td>\n    </tr>\n    <tr>\n      <th>136</th>\n      <td>Corethron</td>\n      <td>200196</td>\n      <td>149109.0</td>\n      <td>49594</td>\n    </tr>\n  </tbody>\n</table>\n<p>137 rows × 4 columns</p>\n</div>"
     },
     "execution_count": 18,
     "metadata": {},
     "output_type": "execute_result"
    }
   ],
   "source": [
    "\"\"\"Writes Joy-Warren 2019 dataset to database\"\"\"\n",
    "joyw: DataFrame = pd.read_csv('../data/in/datasets/modified/joy_warren.csv', encoding='utf-8')\n",
    "# group by depth and station: station1([1.7, 1.8, 2.1][9.7. 9.8, 10.2]...), station2...\n",
    "joyw = joyw.groupby([joyw[\"depth\"].pct_change().abs().gt(0.15).cumsum(), \"station\"]).mean(numeric_only=True)\n",
    "joyw = joyw.reset_index(level=0, drop=True).reset_index(level=0).sort_values(by='depth')\n",
    "joyw.sort_values(by=['station', 'depth'])\n",
    "# --------------------------------------------------\n",
    "jwchemtax = pd.read_csv('../data/in/datasets/modified/joy_warren_chemtax.csv')\n",
    "jwchemtax = jwchemtax.dropna().sort_values(by='depth')\n",
    "joyw: DataFrame = pd.merge_asof(jwchemtax, joyw, by='station', on='depth', direction='nearest',\n",
    "                                  tolerance=2).sort_values(by='station')\n",
    "\n",
    "joyw['timestamp'] = pd.to_datetime(joyw['date'], format='%Y%m%d', errors='coerce').dropna().drop(\n",
    "    columns=['date', 'time'])\n",
    "joyw['source_name'] = 'joyw'\n",
    "joyw['percent_phaeo'] = joyw['haptophytes']\n",
    "joyw['percent_diatom'] = joyw['diatoms']\n",
    "joyw['percent_other'] = joyw['chlorophytes'] + joyw['mixed_flagellates'] + joyw['cryptophytes']\n",
    "# ----------------------------------------------------\n",
    "joyw = joyw.reset_index(drop=True)\n",
    "max_id: int = pd.read_sql(\"select max(id) from sample\", con=con)['max(id)'][0] + 1\n",
    "joyw['id'] = np.arange(max_id, max_id + len(joyw))\n",
    "jwmkey = pd.concat([joyw['id'], joyw['station'], joyw['depth']], axis=1).sort_values(by='depth')\n",
    "\n",
    "\n",
    "extra = joyw.columns.difference(sophysql.get_table_cols(\"sample\"))\n",
    "joyw[\"extra_json\"] = joyw[extra].agg(lambda r: r[r.notna()].to_json(), axis=1)\n",
    "joyw = joyw.drop(columns=extra, axis=1)\n",
    "\n",
    "microscopy = pd.read_csv('../data/in/datasets/modified/joy_warren_microscopy.csv', encoding='utf-8').dropna()\n",
    "replace: tuple = ('centric', 'pennate', 'unknown diatom', 'dinoflagellate', 'ciliate', 'silicoflagellate')\n",
    "are_taxa = ~microscopy['taxa'].isin(replace)\n",
    "taxa: DataFrame = pd.read_csv(\"../data/in/worms/joy_warren_worms.csv\", encoding='utf-8').rename(sophytaxa.worms_sql)\n",
    "# ----------------------------------\n",
    "taxa.index = microscopy[are_taxa].index\n",
    "microscopy['aphia_id'] = taxa['AphiaID']\n",
    "microscopy = microscopy.sort_values(by='depth')\n",
    "microscopy = pd.merge_asof(microscopy, jwmkey, by='station', on='depth', direction='nearest', tolerance=1)\n",
    "microscopy = microscopy.rename({'id': 'sample_id', 'taxa': 'name', 'group': 'groups'},\n",
    "                               axis=\"columns\")\n",
    "microscopy = microscopy[microscopy.columns.intersection(sophysql.get_table_cols(\"microscopy\"))]\n",
    "\n",
    "data_gdf = GeoDataFrame(joyw, geometry=gpd.points_from_xy(joyw['longitude'], joyw['latitude']), crs='EPSG:4326')\n",
    "data_gdf = data_gdf.to_crs(crs=ccrs.SouthPolarStereo())\n",
    "zones_gdf = gpd.read_file(geolabel.zones_shapefile).to_crs(ccrs.SouthPolarStereo())\n",
    "# Spatially join data points with zones (polygons) to get labelled data\n",
    "joyw = DataFrame(data_gdf.sjoin(zones_gdf, how='left').drop(columns=['geometry', 'index_right'])).drop_duplicates(subset=['id'])\n",
    "joyw"
   ],
   "metadata": {
    "collapsed": false,
    "pycharm": {
     "name": "#%%\n"
    }
   }
  },
  {
   "cell_type": "code",
   "execution_count": 21,
   "outputs": [
    {
     "data": {
      "text/plain": "137"
     },
     "execution_count": 21,
     "metadata": {},
     "output_type": "execute_result"
    }
   ],
   "source": [
    "joyw.to_sql(name='sample', con=con, if_exists='append', index=False)\n",
    "microscopy.to_sql(name='microscopy', con=con, if_exists='append', index=False)"
   ],
   "metadata": {
    "collapsed": false,
    "pycharm": {
     "name": "#%%\n"
    }
   }
  },
  {
   "cell_type": "markdown",
   "source": [
    "3) Alderkamp dataset\n",
    "- Link to source and info"
   ],
   "metadata": {
    "collapsed": false,
    "pycharm": {
     "name": "#%% md\n"
    }
   }
  },
  {
   "cell_type": "code",
   "execution_count": null,
   "outputs": [],
   "source": [],
   "metadata": {
    "collapsed": false,
    "pycharm": {
     "name": "#%%\n"
    }
   }
  },
  {
   "cell_type": "markdown",
   "source": [
    "4) Garibotti dataset\n",
    "- Link to source and info"
   ],
   "metadata": {
    "collapsed": false,
    "pycharm": {
     "name": "#%% md\n"
    }
   }
  },
  {
   "cell_type": "code",
   "execution_count": null,
   "outputs": [],
   "source": [],
   "metadata": {
    "collapsed": false,
    "pycharm": {
     "name": "#%%\n"
    }
   }
  },
  {
   "cell_type": "markdown",
   "source": [],
   "metadata": {
    "collapsed": false,
    "pycharm": {
     "name": "#%% md\n"
    }
   }
  }
 ],
 "metadata": {
  "kernelspec": {
   "display_name": "Python 3",
   "language": "python",
   "name": "python3"
  },
  "language_info": {
   "codemirror_mode": {
    "name": "ipython",
    "version": 2
   },
   "file_extension": ".py",
   "mimetype": "text/x-python",
   "name": "python",
   "nbconvert_exporter": "python",
   "pygments_lexer": "ipython2",
   "version": "2.7.6"
  }
 },
 "nbformat": 4,
 "nbformat_minor": 0
}