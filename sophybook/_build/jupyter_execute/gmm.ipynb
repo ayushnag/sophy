{
 "cells": [
  {
   "attachments": {},
   "cell_type": "markdown",
   "metadata": {},
   "source": [
    "# Gaussian Mixture Modeling (GMM) for southern ocean clustering\n",
    "\n",
    "## Sample Code\n",
    "### TODO: Add Hannah's GMM code and outputs here\n",
    "\n",
    "## Notes\n",
    "### Unsupervised learning to define Southern Ocean sectors\n",
    "- The niche model will not use the traditional front definitions to group data\n",
    "- Instead, we will use temp + salinity + other bio factors to make custom clusters with unsupervised machine learning\n",
    "- Based off the work in [this](https://doi.org/10.1029/2018JC014629) paper by Dan Jones in 2019\n",
    "- Fronts are difficult to define as a fixed boundary which is why a more open clustering system seems more representitive"
   ]
  }
 ],
 "metadata": {
  "language_info": {
   "name": "python"
  }
 },
 "nbformat": 4,
 "nbformat_minor": 2
}