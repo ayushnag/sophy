{
 "cells": [
  {
   "attachments": {},
   "cell_type": "markdown",
   "metadata": {},
   "source": [
    "# Simple Regression Analysis of SOPhy Data\n",
    "## Sample Code\n",
    "### TODO: Add species_predict.ipynb code here\n",
    "\n",
    "## Notes\n",
    "### Lasso Week 2\n",
    "- The RandomForest Regressor with hyperparamter tuning on the SOPhy dataset achieves a 0.52 R^2 score to predict percent_phaeo\n",
    "<img src=\"img/rf_phaeo.png\" width=300>\n",
    "\n",
    "### Lasso Week 1\n",
    "- So to first visualize the features here is a pairplot with all the data\n",
    "<img src=\"img/lter_pairplots.png\" alt= “” width=600>\n",
    "- There are some trends visible, but the variance of data is extremely high for large ranges. For example when salinity is 0, percent_pheo could be anywhere from 0 to 0.8.\n",
    "- This raised some concerns about the quality of the data so I excluded the LTER dataset which has most of the data. I then tried the same process for only the Joy-Warren dataset\n",
    "- <img src=\"img/joyw_pairplots.png\" alt= “” width=600>\n",
    "- These plots make much more sense since there looks to be a valid function that could describe the data\n",
    "- Next I ran Lasso on this data and got an $R^2$ score of 0.19 (ideal=1). However there are quite a few outliers in the data that may be skewing the fit. I experimented with different thresholds of outlier removal and got increasingly better results up to an $R^2$ score of 0.4.\n",
    "- Outliers were removed using the z-score method. Thresholds tested were: none, zscore < 3, zscore < 1.5\n",
    "<p float=\"left\">\n",
    "  <img src=\"img/lasso_all_outliers.png\" alt= “” width=200>\n",
    "  <img src=\"img/lasso_some_outliers.png\" alt= “” width=200>\n",
    "  <img src=\"img/lasso_few_outliers.png\" alt= “” width=200>\n",
    "</p>\n",
    "\n",
    "- The next step I tried is to add more data from other sources to see if that can help improve the accuracy of the model. The datasets added were the Alderkamp and Garibotti datasets\n",
    "### Species Prediction Initial Ideas\n",
    "- Lasso Regression to help identify the important features and make an early model\n",
    "- Temperature, salinity, chl_a, nitrate, oxygen, month, and depth to predict percent_phaeo\n",
    "- Technically species composition is (phaeo + diatoms + other) = 100% but to start with I will try and just predict one of the percentages (phaeo)\n",
    "- The dataset will be sophy.xlsx with primarily LTER and Joy-Warren datasets\n"
   ]
  }
 ],
 "metadata": {
  "language_info": {
   "name": "python"
  },
  "orig_nbformat": 4
 },
 "nbformat": 4,
 "nbformat_minor": 2
}
