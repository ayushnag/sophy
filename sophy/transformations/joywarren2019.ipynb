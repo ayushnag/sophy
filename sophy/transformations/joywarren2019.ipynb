{
 "cells": [
  {
   "cell_type": "code",
   "execution_count": 1,
   "metadata": {
    "ExecuteTime": {
     "end_time": "2024-03-08T18:21:59.904575Z",
     "start_time": "2024-03-08T18:21:59.014641Z"
    }
   },
   "outputs": [],
   "source": [
    "import pandas as pd"
   ]
  },
  {
   "cell_type": "code",
   "execution_count": 2,
   "metadata": {
    "ExecuteTime": {
     "end_time": "2024-03-08T18:22:01.569984Z",
     "start_time": "2024-03-08T18:21:59.905494Z"
    }
   },
   "outputs": [
    {
     "name": "stderr",
     "output_type": "stream",
     "text": [
      "/Users/ayushnag/miniconda3/envs/sophyvenv/lib/python3.12/site-packages/openpyxl/worksheet/_read_only.py:81: UserWarning: Unknown extension is not supported and will be removed\n",
      "  for idx, row in parser.parse():\n",
      "/Users/ayushnag/miniconda3/envs/sophyvenv/lib/python3.12/site-packages/openpyxl/worksheet/_read_only.py:81: UserWarning: Unknown extension is not supported and will be removed\n",
      "  for idx, row in parser.parse():\n",
      "/Users/ayushnag/miniconda3/envs/sophyvenv/lib/python3.12/site-packages/openpyxl/worksheet/_read_only.py:81: UserWarning: Unknown extension is not supported and will be removed\n",
      "  for idx, row in parser.parse():\n"
     ]
    }
   ],
   "source": [
    "chemtax = pd.read_excel(\"../../data/datasets/unmodified/joywarren2019/CHEMTAX water column.xlsx\")\n",
    "microscopy = pd.read_excel(\"../../data/datasets/unmodified/joywarren2019/Joy-Warren_et_al_WAP_Primary_Production_SuppTable2.xlsx\", header=1)\n",
    "joyw = pd.read_excel(\"../../data/datasets/unmodified/joywarren2019/NBP1409_20180228_hy1_R.xlsx\")"
   ]
  },
  {
   "cell_type": "code",
   "execution_count": 5,
   "metadata": {
    "ExecuteTime": {
     "end_time": "2024-03-08T18:22:12.560448Z",
     "start_time": "2024-03-08T18:22:12.553273Z"
    }
   },
   "outputs": [],
   "source": [
    "chemtax_sophy = {\"CTDDEPTH\": \"depth\", \"Sta\": \"station\", \"chla_ugL\": \"hplc_tot_chl_a\", \"Chlorophytes_frac_chla\": \"chemtax_chlorophytes\", \"Dinoflagellates_frac_chla\": \"chemtax_dinoflagellates\", \"Cryptophytes_frac_chla\": \"chemtax_cryptophytes\", \"Haptophytes1_frac_chla\": \"chemtax_haptophytes1\", \"Haptophytes2_frac_chla\": \"chemtax_haptophytes2\", \"Diatoms_frac_chla\": \"chemtax_diatoms\"}\n",
    "chemtax = chemtax.rename(columns=chemtax_sophy)\n",
    "\n",
    "microscopy_sophy = {\"Exp\": \"experiment\", \"Taxa\": \"taxa\", \"Biovolume concentration (μm3 cm-3)\": \"biovolume_per_L\"}\n",
    "microscopy = microscopy.rename(columns=microscopy_sophy)\n",
    "\n",
    "joyw_sophy = {\"STNNBR\": \"station\", \"LATITUDE\": \"latitude\", \"LONGITUDE\": \"longitude\", \"CTDDEPTH\": \"depth\", \"CTDTMP_UP\": \"temperature\", \"CTDSAL_UP\": \"salinity\", \"CTDOXY_UP\": \"oxygen\", \"CTDPAR_UP\": \"par\", \"DFE\": \"dfe\", \"clor_a_flurosesc\": \"chl_a_fluor\", \"NITRAT\": \"nitrate\", \"NITRIT\": \"nitrite\", \"PHSPHT\": \"phosphate\", \"SILCAT\": \"silicate\", \"TDIC *note call DIC\": \"dic\"}\n",
    "joyw = joyw.rename(columns=joyw_sophy)"
   ]
  },
  {
   "cell_type": "code",
   "execution_count": 7,
   "metadata": {
    "ExecuteTime": {
     "end_time": "2024-03-08T18:23:43.208847Z",
     "start_time": "2024-03-08T18:23:43.173056Z"
    }
   },
   "outputs": [
    {
     "name": "stderr",
     "output_type": "stream",
     "text": [
      "/var/folders/wb/v7frq16s6nnb0tkx5j8nz06r0000gn/T/ipykernel_37062/2908909921.py:4: FutureWarning: The default fill_method='pad' in Series.pct_change is deprecated and will be removed in a future version. Either fill in any non-leading NA values prior to calling pct_change or specify 'fill_method=None' to not fill NA values.\n",
      "  joyw = joyw.groupby([joyw[\"depth\"].pct_change().abs().gt(0.15).cumsum(), \"station\"]).mean(numeric_only=True)\n"
     ]
    },
    {
     "data": {
      "text/plain": "    TYPE  depth station  CHEMTAX bin SAMPLENAME FLOWCAM  \\\n60   CTD    9.8  002_02            2         18     NaN   \n39   CTD    3.5  002_02            1         16     NaN   \n200  CTD   76.3  002_02            5         34     NaN   \n99   CTD   24.7  002_02            3         25     NaN   \n223  CTD  100.1  002_02            6         36     NaN   \n..   ...    ...     ...          ...        ...     ...   \n64   CTD    9.9  096_01            2       3564     NaN   \n209  CTD   99.2  096_01            6       3580     NaN   \n1    CTD    1.3  096_01            1       3563     NaN   \n131  CTD   48.8  096_01            4       3573     NaN   \n47   CTD    9.5  098_01            2       3703     NaN   \n\n     Chlorophytes_abs_chla  Dinoflagellates_abs_chla  Cryptophytes_abs_chla  \\\n60                0.000352              4.049944e-07               0.007669   \n39                0.011924              5.670137e-03               0.008550   \n200               0.022813              1.029493e-02               0.004794   \n99                0.000313              1.878904e-04               0.006546   \n223               0.009359              3.707161e-03               0.006733   \n..                     ...                       ...                    ...   \n64                0.029584              2.503137e-03               0.011948   \n209               0.000000              0.000000e+00               0.000000   \n1                 0.037369              2.036261e-03               0.012666   \n131               0.013547              0.000000e+00               0.000000   \n47                0.057859              5.571879e-03               0.028081   \n\n     Haptophytes1_abs_chla  ...  sTA_Friis STDEV  sTA_Friis STDEV_FLAG_W  \\\n60                0.025359  ...           -999.0                     9.0   \n39                0.026715  ...           -999.0                     9.0   \n200               0.019460  ...           -999.0                     9.0   \n99                0.005069  ...           -999.0                     9.0   \n223               0.027330  ...           -999.0                     9.0   \n..                     ...  ...              ...                     ...   \n64                0.117429  ...           -999.0                     9.0   \n209               0.008101  ...           -999.0                     9.0   \n1                 0.137983  ...           -999.0                     9.0   \n131               0.047260  ...           -999.0                     9.0   \n47                0.062920  ...           -999.0                     9.0   \n\n     sDIC_Brown  sDIC_Brown_FLAG_W   id           timestamp  hplc_present  \\\n60       -999.0                9.0   61 2014-10-31 05:02:00             1   \n39       -999.0                9.0   40 2014-10-31 05:03:00             1   \n200      -999.0                9.0  201 2014-10-31 04:57:00             1   \n99       -999.0                9.0  100 2014-10-31 05:00:00             1   \n223      -999.0                9.0  224 2014-10-31 04:55:00             1   \n..          ...                ...  ...                 ...           ...   \n64       -999.0                9.0   65 2014-11-21 03:31:00             1   \n209      -999.0                9.0  210 2014-11-21 03:24:00             1   \n1        -999.0                9.0    2 2014-11-21 03:32:00             1   \n131      -999.0                9.0  132 2014-11-21 03:28:00             1   \n47       -999.0                9.0   48 2014-11-21 12:21:00             1   \n\n     chemtax_present  microscopy_present  ifcb_present  \n60                 1                   1             0  \n39                 1                   1             0  \n200                1                   1             0  \n99                 1                   1             0  \n223                1                   1             0  \n..               ...                 ...           ...  \n64                 1                   1             0  \n209                1                   1             0  \n1                  1                   1             0  \n131                1                   1             0  \n47                 1                   1             0  \n\n[251 rows x 135 columns]",
      "text/html": "<div>\n<style scoped>\n    .dataframe tbody tr th:only-of-type {\n        vertical-align: middle;\n    }\n\n    .dataframe tbody tr th {\n        vertical-align: top;\n    }\n\n    .dataframe thead th {\n        text-align: right;\n    }\n</style>\n<table border=\"1\" class=\"dataframe\">\n  <thead>\n    <tr style=\"text-align: right;\">\n      <th></th>\n      <th>TYPE</th>\n      <th>depth</th>\n      <th>station</th>\n      <th>CHEMTAX bin</th>\n      <th>SAMPLENAME</th>\n      <th>FLOWCAM</th>\n      <th>Chlorophytes_abs_chla</th>\n      <th>Dinoflagellates_abs_chla</th>\n      <th>Cryptophytes_abs_chla</th>\n      <th>Haptophytes1_abs_chla</th>\n      <th>...</th>\n      <th>sTA_Friis STDEV</th>\n      <th>sTA_Friis STDEV_FLAG_W</th>\n      <th>sDIC_Brown</th>\n      <th>sDIC_Brown_FLAG_W</th>\n      <th>id</th>\n      <th>timestamp</th>\n      <th>hplc_present</th>\n      <th>chemtax_present</th>\n      <th>microscopy_present</th>\n      <th>ifcb_present</th>\n    </tr>\n  </thead>\n  <tbody>\n    <tr>\n      <th>60</th>\n      <td>CTD</td>\n      <td>9.8</td>\n      <td>002_02</td>\n      <td>2</td>\n      <td>18</td>\n      <td>NaN</td>\n      <td>0.000352</td>\n      <td>4.049944e-07</td>\n      <td>0.007669</td>\n      <td>0.025359</td>\n      <td>...</td>\n      <td>-999.0</td>\n      <td>9.0</td>\n      <td>-999.0</td>\n      <td>9.0</td>\n      <td>61</td>\n      <td>2014-10-31 05:02:00</td>\n      <td>1</td>\n      <td>1</td>\n      <td>1</td>\n      <td>0</td>\n    </tr>\n    <tr>\n      <th>39</th>\n      <td>CTD</td>\n      <td>3.5</td>\n      <td>002_02</td>\n      <td>1</td>\n      <td>16</td>\n      <td>NaN</td>\n      <td>0.011924</td>\n      <td>5.670137e-03</td>\n      <td>0.008550</td>\n      <td>0.026715</td>\n      <td>...</td>\n      <td>-999.0</td>\n      <td>9.0</td>\n      <td>-999.0</td>\n      <td>9.0</td>\n      <td>40</td>\n      <td>2014-10-31 05:03:00</td>\n      <td>1</td>\n      <td>1</td>\n      <td>1</td>\n      <td>0</td>\n    </tr>\n    <tr>\n      <th>200</th>\n      <td>CTD</td>\n      <td>76.3</td>\n      <td>002_02</td>\n      <td>5</td>\n      <td>34</td>\n      <td>NaN</td>\n      <td>0.022813</td>\n      <td>1.029493e-02</td>\n      <td>0.004794</td>\n      <td>0.019460</td>\n      <td>...</td>\n      <td>-999.0</td>\n      <td>9.0</td>\n      <td>-999.0</td>\n      <td>9.0</td>\n      <td>201</td>\n      <td>2014-10-31 04:57:00</td>\n      <td>1</td>\n      <td>1</td>\n      <td>1</td>\n      <td>0</td>\n    </tr>\n    <tr>\n      <th>99</th>\n      <td>CTD</td>\n      <td>24.7</td>\n      <td>002_02</td>\n      <td>3</td>\n      <td>25</td>\n      <td>NaN</td>\n      <td>0.000313</td>\n      <td>1.878904e-04</td>\n      <td>0.006546</td>\n      <td>0.005069</td>\n      <td>...</td>\n      <td>-999.0</td>\n      <td>9.0</td>\n      <td>-999.0</td>\n      <td>9.0</td>\n      <td>100</td>\n      <td>2014-10-31 05:00:00</td>\n      <td>1</td>\n      <td>1</td>\n      <td>1</td>\n      <td>0</td>\n    </tr>\n    <tr>\n      <th>223</th>\n      <td>CTD</td>\n      <td>100.1</td>\n      <td>002_02</td>\n      <td>6</td>\n      <td>36</td>\n      <td>NaN</td>\n      <td>0.009359</td>\n      <td>3.707161e-03</td>\n      <td>0.006733</td>\n      <td>0.027330</td>\n      <td>...</td>\n      <td>-999.0</td>\n      <td>9.0</td>\n      <td>-999.0</td>\n      <td>9.0</td>\n      <td>224</td>\n      <td>2014-10-31 04:55:00</td>\n      <td>1</td>\n      <td>1</td>\n      <td>1</td>\n      <td>0</td>\n    </tr>\n    <tr>\n      <th>...</th>\n      <td>...</td>\n      <td>...</td>\n      <td>...</td>\n      <td>...</td>\n      <td>...</td>\n      <td>...</td>\n      <td>...</td>\n      <td>...</td>\n      <td>...</td>\n      <td>...</td>\n      <td>...</td>\n      <td>...</td>\n      <td>...</td>\n      <td>...</td>\n      <td>...</td>\n      <td>...</td>\n      <td>...</td>\n      <td>...</td>\n      <td>...</td>\n      <td>...</td>\n      <td>...</td>\n    </tr>\n    <tr>\n      <th>64</th>\n      <td>CTD</td>\n      <td>9.9</td>\n      <td>096_01</td>\n      <td>2</td>\n      <td>3564</td>\n      <td>NaN</td>\n      <td>0.029584</td>\n      <td>2.503137e-03</td>\n      <td>0.011948</td>\n      <td>0.117429</td>\n      <td>...</td>\n      <td>-999.0</td>\n      <td>9.0</td>\n      <td>-999.0</td>\n      <td>9.0</td>\n      <td>65</td>\n      <td>2014-11-21 03:31:00</td>\n      <td>1</td>\n      <td>1</td>\n      <td>1</td>\n      <td>0</td>\n    </tr>\n    <tr>\n      <th>209</th>\n      <td>CTD</td>\n      <td>99.2</td>\n      <td>096_01</td>\n      <td>6</td>\n      <td>3580</td>\n      <td>NaN</td>\n      <td>0.000000</td>\n      <td>0.000000e+00</td>\n      <td>0.000000</td>\n      <td>0.008101</td>\n      <td>...</td>\n      <td>-999.0</td>\n      <td>9.0</td>\n      <td>-999.0</td>\n      <td>9.0</td>\n      <td>210</td>\n      <td>2014-11-21 03:24:00</td>\n      <td>1</td>\n      <td>1</td>\n      <td>1</td>\n      <td>0</td>\n    </tr>\n    <tr>\n      <th>1</th>\n      <td>CTD</td>\n      <td>1.3</td>\n      <td>096_01</td>\n      <td>1</td>\n      <td>3563</td>\n      <td>NaN</td>\n      <td>0.037369</td>\n      <td>2.036261e-03</td>\n      <td>0.012666</td>\n      <td>0.137983</td>\n      <td>...</td>\n      <td>-999.0</td>\n      <td>9.0</td>\n      <td>-999.0</td>\n      <td>9.0</td>\n      <td>2</td>\n      <td>2014-11-21 03:32:00</td>\n      <td>1</td>\n      <td>1</td>\n      <td>1</td>\n      <td>0</td>\n    </tr>\n    <tr>\n      <th>131</th>\n      <td>CTD</td>\n      <td>48.8</td>\n      <td>096_01</td>\n      <td>4</td>\n      <td>3573</td>\n      <td>NaN</td>\n      <td>0.013547</td>\n      <td>0.000000e+00</td>\n      <td>0.000000</td>\n      <td>0.047260</td>\n      <td>...</td>\n      <td>-999.0</td>\n      <td>9.0</td>\n      <td>-999.0</td>\n      <td>9.0</td>\n      <td>132</td>\n      <td>2014-11-21 03:28:00</td>\n      <td>1</td>\n      <td>1</td>\n      <td>1</td>\n      <td>0</td>\n    </tr>\n    <tr>\n      <th>47</th>\n      <td>CTD</td>\n      <td>9.5</td>\n      <td>098_01</td>\n      <td>2</td>\n      <td>3703</td>\n      <td>NaN</td>\n      <td>0.057859</td>\n      <td>5.571879e-03</td>\n      <td>0.028081</td>\n      <td>0.062920</td>\n      <td>...</td>\n      <td>-999.0</td>\n      <td>9.0</td>\n      <td>-999.0</td>\n      <td>9.0</td>\n      <td>48</td>\n      <td>2014-11-21 12:21:00</td>\n      <td>1</td>\n      <td>1</td>\n      <td>1</td>\n      <td>0</td>\n    </tr>\n  </tbody>\n</table>\n<p>251 rows × 135 columns</p>\n</div>"
     },
     "execution_count": 7,
     "metadata": {},
     "output_type": "execute_result"
    }
   ],
   "source": [
    "joyw[\"source\"] = \"joywarren2019\"\n",
    "# joyw[\"chemtax_haptophytes\"] = joyw[\"chemtax_haptophytes1\"] + joyw[\"chemtax_haptophytes2\"]\n",
    "# group by depth and station: station1([1.7, 1.8, 2.1][9.7. 9.8, 10.2]...), station2...\n",
    "joyw = joyw.groupby([joyw[\"depth\"].pct_change().abs().gt(0.15).cumsum(), \"station\"]).mean(numeric_only=True)\n",
    "joyw = joyw.reset_index(level=0, drop=True).reset_index(level=0).sort_values(by=\"depth\")\n",
    "joyw.sort_values(by=[\"station\", \"depth\"])\n",
    "chemtax = chemtax.sort_values(by=\"depth\")\n",
    "# Join main sample data with chemtax by matching station and depth\n",
    "joyw = pd.merge_asof(chemtax, joyw, by=\"station\", on=\"depth\", direction=\"nearest\",\n",
    "                                  tolerance=2).sort_values(by=\"station\")\n",
    "# Set id field for sample data so foreign keys for microscopy can be matched\n",
    "joyw[\"id\"] = joyw.index + 1\n",
    "jwmkey = pd.concat([joyw[\"id\"], joyw[\"station\"], joyw[\"depth\"]], axis=1).sort_values(by=\"depth\")\n",
    "\n",
    "date = pd.to_datetime(joyw['DATE'].fillna(0).astype(int).astype(str), format='%Y%m%d', errors='coerce')\n",
    "time = pd.to_datetime(joyw['TIME'].fillna(0).astype(int).astype(str).str.zfill(4), format='%H%M', errors='coerce').dt.time\n",
    "joyw[\"timestamp\"] = pd.to_datetime(date.astype(str) + ' ' + time.astype(str), errors='coerce')\n",
    "\n",
    "# TODO: should this be at the dataset information level? Doesn't change per sample\n",
    "joyw[\"hplc_present\"] = 1\n",
    "joyw[\"chemtax_present\"] = 1\n",
    "joyw[\"microscopy_present\"] = 1\n",
    "joyw[\"ifcb_present\"] = 0\n",
    "\n",
    "joyw"
   ]
  },
  {
   "cell_type": "code",
   "execution_count": 8,
   "metadata": {
    "ExecuteTime": {
     "end_time": "2024-03-08T18:23:58.372839Z",
     "start_time": "2024-03-08T18:23:58.349302Z"
    }
   },
   "outputs": [
    {
     "data": {
      "text/plain": "    experiment Treatment             Group                    taxa  # images  \\\n0            8   initial           pennate                Navicula       1.0   \n1            8   initial           centric               Proboscia       1.0   \n2            8   initial           centric           Thalassiosira       4.0   \n3            8   initial    dinoflagellate          dinoflagellate       3.0   \n4            8   initial           pennate               Banquisia       5.0   \n..         ...       ...               ...                     ...       ...   \n136          5   initial           pennate        Pseudo-nitzschia       2.0   \n137          5   initial       Phaeocystis  Phaeocystis antarctica     354.0   \n138          5   initial  silicoflagellate        silicoflagellate       3.0   \n139          5   initial    unknown diatom          unknown diatom      14.0   \n140          5   initial           centric               Guinardia       1.0   \n\n     biovolume_per_L measurement_method station  depth  sample_id  \n0          43.331605            flowcam  058_01    1.8         15  \n1          39.234955            flowcam  058_01    1.8         15  \n2        3187.660269            flowcam  058_01    1.8         15  \n3           0.455327            flowcam  058_01    1.8         15  \n4          96.678097            flowcam  058_01    1.8         15  \n..               ...                ...     ...    ...        ...  \n136       165.508378            flowcam  050_03   25.4        123  \n137    263589.831657            flowcam  050_03   25.4        123  \n138         0.303715            flowcam  050_03   25.4        123  \n139         0.847877            flowcam  050_03   25.4        123  \n140       603.307381            flowcam  050_03   25.4        123  \n\n[141 rows x 10 columns]",
      "text/html": "<div>\n<style scoped>\n    .dataframe tbody tr th:only-of-type {\n        vertical-align: middle;\n    }\n\n    .dataframe tbody tr th {\n        vertical-align: top;\n    }\n\n    .dataframe thead th {\n        text-align: right;\n    }\n</style>\n<table border=\"1\" class=\"dataframe\">\n  <thead>\n    <tr style=\"text-align: right;\">\n      <th></th>\n      <th>experiment</th>\n      <th>Treatment</th>\n      <th>Group</th>\n      <th>taxa</th>\n      <th># images</th>\n      <th>biovolume_per_L</th>\n      <th>measurement_method</th>\n      <th>station</th>\n      <th>depth</th>\n      <th>sample_id</th>\n    </tr>\n  </thead>\n  <tbody>\n    <tr>\n      <th>0</th>\n      <td>8</td>\n      <td>initial</td>\n      <td>pennate</td>\n      <td>Navicula</td>\n      <td>1.0</td>\n      <td>43.331605</td>\n      <td>flowcam</td>\n      <td>058_01</td>\n      <td>1.8</td>\n      <td>15</td>\n    </tr>\n    <tr>\n      <th>1</th>\n      <td>8</td>\n      <td>initial</td>\n      <td>centric</td>\n      <td>Proboscia</td>\n      <td>1.0</td>\n      <td>39.234955</td>\n      <td>flowcam</td>\n      <td>058_01</td>\n      <td>1.8</td>\n      <td>15</td>\n    </tr>\n    <tr>\n      <th>2</th>\n      <td>8</td>\n      <td>initial</td>\n      <td>centric</td>\n      <td>Thalassiosira</td>\n      <td>4.0</td>\n      <td>3187.660269</td>\n      <td>flowcam</td>\n      <td>058_01</td>\n      <td>1.8</td>\n      <td>15</td>\n    </tr>\n    <tr>\n      <th>3</th>\n      <td>8</td>\n      <td>initial</td>\n      <td>dinoflagellate</td>\n      <td>dinoflagellate</td>\n      <td>3.0</td>\n      <td>0.455327</td>\n      <td>flowcam</td>\n      <td>058_01</td>\n      <td>1.8</td>\n      <td>15</td>\n    </tr>\n    <tr>\n      <th>4</th>\n      <td>8</td>\n      <td>initial</td>\n      <td>pennate</td>\n      <td>Banquisia</td>\n      <td>5.0</td>\n      <td>96.678097</td>\n      <td>flowcam</td>\n      <td>058_01</td>\n      <td>1.8</td>\n      <td>15</td>\n    </tr>\n    <tr>\n      <th>...</th>\n      <td>...</td>\n      <td>...</td>\n      <td>...</td>\n      <td>...</td>\n      <td>...</td>\n      <td>...</td>\n      <td>...</td>\n      <td>...</td>\n      <td>...</td>\n      <td>...</td>\n    </tr>\n    <tr>\n      <th>136</th>\n      <td>5</td>\n      <td>initial</td>\n      <td>pennate</td>\n      <td>Pseudo-nitzschia</td>\n      <td>2.0</td>\n      <td>165.508378</td>\n      <td>flowcam</td>\n      <td>050_03</td>\n      <td>25.4</td>\n      <td>123</td>\n    </tr>\n    <tr>\n      <th>137</th>\n      <td>5</td>\n      <td>initial</td>\n      <td>Phaeocystis</td>\n      <td>Phaeocystis antarctica</td>\n      <td>354.0</td>\n      <td>263589.831657</td>\n      <td>flowcam</td>\n      <td>050_03</td>\n      <td>25.4</td>\n      <td>123</td>\n    </tr>\n    <tr>\n      <th>138</th>\n      <td>5</td>\n      <td>initial</td>\n      <td>silicoflagellate</td>\n      <td>silicoflagellate</td>\n      <td>3.0</td>\n      <td>0.303715</td>\n      <td>flowcam</td>\n      <td>050_03</td>\n      <td>25.4</td>\n      <td>123</td>\n    </tr>\n    <tr>\n      <th>139</th>\n      <td>5</td>\n      <td>initial</td>\n      <td>unknown diatom</td>\n      <td>unknown diatom</td>\n      <td>14.0</td>\n      <td>0.847877</td>\n      <td>flowcam</td>\n      <td>050_03</td>\n      <td>25.4</td>\n      <td>123</td>\n    </tr>\n    <tr>\n      <th>140</th>\n      <td>5</td>\n      <td>initial</td>\n      <td>centric</td>\n      <td>Guinardia</td>\n      <td>1.0</td>\n      <td>603.307381</td>\n      <td>flowcam</td>\n      <td>050_03</td>\n      <td>25.4</td>\n      <td>123</td>\n    </tr>\n  </tbody>\n</table>\n<p>141 rows × 10 columns</p>\n</div>"
     },
     "execution_count": 8,
     "metadata": {},
     "output_type": "execute_result"
    }
   ],
   "source": [
    "microscopy = microscopy.dropna()\n",
    "microscopy[\"measurement_method\"] = \"flowcam\"\n",
    "microscopy = microscopy[microscopy[\"Treatment\"] == \"initial\"]\n",
    "# Convert cm^3 to L (divide the volume value by 1000)\n",
    "microscopy[\"biovolume_per_L\"] = microscopy[\"biovolume_per_L\"].div(1000)\n",
    "experiment_station = {3: \"016_02\", 4: \"046_01\", 5: \"050_03\", 6: \"052_01\", 8: \"058_01\", 9: \"061_01\", 12: \"078_03\", 13: \"082_03\", 14: \"088_01\", 15: \"066_01\"}\n",
    "# remove rows we don't have station info for\n",
    "microscopy = microscopy[microscopy[\"experiment\"].isin(experiment_station.keys())]\n",
    "microscopy[\"station\"] = microscopy[\"experiment\"].map(experiment_station)\n",
    "# experiment depths given in joywarren2019 paper\n",
    "experiment_depth = {3: 9.9, 4: 10.2, 5: 25.4, 6: 10.0, 8: 1.8, 9: 9.7, 12: 25.2, 13: 10.1, 14: 9.9, 15: 9.9}\n",
    "microscopy[\"depth\"] = microscopy[\"experiment\"].map(experiment_depth)\n",
    "\n",
    "# TODO: make aphia_id column with preassigned ids for the manually replaced taxa\n",
    "\n",
    "# List of taxa that are too general for WorMS to find an id for\n",
    "replace = (\"centric\", \"pennate\", \"unknown diatom\", \"dinoflagellate\", \"ciliate\", \"silicoflagellate\")\n",
    "# are_taxa = rows that have species name we can get taxonomy for (ex: Phaeocystis)\n",
    "# are_taxa: Series = ~microscopy['taxa'].isin(replace)\n",
    "# taxa: DataFrame = pd.read_csv(joywarren_worms_file, encoding='utf-8').rename(worms_sql)\n",
    "# taxa.index = microscopy[are_taxa].index\n",
    "# ----------------------------------\n",
    "# microscopy['aphia_id'] = taxa['AphiaID']\n",
    "microscopy = microscopy.sort_values(by='depth')\n",
    "# Join microscopy data with matching id in sample table (by depth and station)\n",
    "microscopy = pd.merge_asof(microscopy, jwmkey, by='station', on='depth', direction='nearest', tolerance=1)\n",
    "microscopy = microscopy.rename({'id': 'sample_id', 'group': 'groups'}, axis=\"columns\")\n",
    "microscopy"
   ]
  },
  {
   "cell_type": "code",
   "execution_count": null,
   "metadata": {},
   "outputs": [],
   "source": [
    "joyw.to_csv(\"../../data/datasets/modified/joywarren2019/sample.csv\", index=False)\n",
    "microscopy.to_csv(\"../../data/datasets/modified/joywarren2019/sample_amount.csv\", index=False)"
   ]
  },
  {
   "cell_type": "code",
   "outputs": [],
   "source": [
    "joyw[\"id\"] = joyw.index + 1\n",
    "# make a local id\n",
    "# join the sample and microscopy tables (using whatever depth and station)\n",
    "# - when joined, the id's will be a column that is added to the joined result"
   ],
   "metadata": {
    "collapsed": false
   }
  }
 ],
 "metadata": {
  "kernelspec": {
   "display_name": "Python 3",
   "language": "python",
   "name": "python3"
  },
  "language_info": {
   "codemirror_mode": {
    "name": "ipython",
    "version": 3
   },
   "file_extension": ".py",
   "mimetype": "text/x-python",
   "name": "python",
   "nbconvert_exporter": "python",
   "pygments_lexer": "ipython3",
   "version": "3.12.0"
  }
 },
 "nbformat": 4,
 "nbformat_minor": 2
}
