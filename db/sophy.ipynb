{
 "cells": [
  {
   "cell_type": "markdown",
   "source": [
    "# SOPHY Database\n",
    "### Southern Ocean Phytoplankton Database\n",
    "- Made by Ayush Nag and Hannah-Joy Warren (add others)\n",
    "- UW Oceanography (add other credits)"
   ],
   "metadata": {
    "collapsed": false,
    "pycharm": {
     "name": "#%% md\n"
    }
   }
  },
  {
   "cell_type": "code",
   "execution_count": 1,
   "outputs": [],
   "source": [
    "import sqlite3\n",
    "import pandas as pd\n",
    "import pyworms\n",
    "from pandas import DataFrame\n",
    "import cartopy.feature\n",
    "import matplotlib.pyplot as plt\n",
    "import scipy.io as sio\n",
    "from shapely.geometry import Polygon, Point, MultiPoint, LineString\n",
    "import cartopy.crs as ccrs\n",
    "import fiona\n",
    "import numpy as np\n",
    "import shapely\n",
    "import matplotlib.path as mpath\n",
    "import geopandas as gpd\n",
    "import shapely.validation\n",
    "import pyproj\n",
    "import alphashape\n",
    "from shapely.ops import transform\n",
    "from geolabel import GeoLabel"
   ],
   "metadata": {
    "collapsed": false,
    "pycharm": {
     "name": "#%%\n"
    }
   }
  },
  {
   "cell_type": "code",
   "execution_count": 2,
   "outputs": [],
   "source": [
    "con = sqlite3.connect(\"sophy.db\")\n",
    "cur = con.cursor()"
   ],
   "metadata": {
    "collapsed": false,
    "pycharm": {
     "name": "#%%\n"
    }
   }
  }
 ],
 "metadata": {
  "kernelspec": {
   "display_name": "Python 3",
   "language": "python",
   "name": "python3"
  },
  "language_info": {
   "codemirror_mode": {
    "name": "ipython",
    "version": 2
   },
   "file_extension": ".py",
   "mimetype": "text/x-python",
   "name": "python",
   "nbconvert_exporter": "python",
   "pygments_lexer": "ipython2",
   "version": "2.7.6"
  }
 },
 "nbformat": 4,
 "nbformat_minor": 0
}