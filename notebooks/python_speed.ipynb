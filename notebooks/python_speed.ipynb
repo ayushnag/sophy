{
 "cells": [
  {
   "cell_type": "markdown",
   "metadata": {
    "collapsed": false,
    "pycharm": {
     "name": "#%% md\n"
    }
   },
   "source": [
    "## Improving Python code examples"
   ]
  },
  {
   "cell_type": "code",
   "execution_count": 3,
   "metadata": {
    "collapsed": false,
    "pycharm": {
     "is_executing": true,
     "name": "#%%\n"
    }
   },
   "outputs": [],
   "source": [
    "import time\n",
    "import numpy as np\n",
    "import pyworms"
   ]
  },
  {
   "cell_type": "code",
   "execution_count": 4,
   "metadata": {
    "collapsed": false,
    "pycharm": {
     "is_executing": true,
     "name": "#%%\n"
    }
   },
   "outputs": [
    {
     "name": "stdout",
     "output_type": "stream",
     "text": [
      "loop sum: 79.58292961120605 ms\n",
      "builtin sum: 24.945974349975586 ms\n",
      "numpy sum: 2.9888153076171875 ms\n",
      "wrong numpy sum: 72.31712341308594 ms\n"
     ]
    }
   ],
   "source": [
    "count = 0\n",
    "start = time.time()\n",
    "for x in range(1000000):\n",
    "    # line is executed 5000 * 5000 times\n",
    "    count += 1\n",
    "end = time.time()\n",
    "print(f'loop sum: {(end - start) * 1000} ms')\n",
    "\n",
    "start = time.time()\n",
    "sum(range(1000000))\n",
    "end = time.time()\n",
    "print(f'builtin sum: {(end - start) * 1000} ms')\n",
    "\n",
    "start = time.time()\n",
    "np.sum(np.arange(0, 1000000))\n",
    "end = time.time()\n",
    "print(f'numpy sum: {(end - start) * 1000} ms')\n",
    "\n",
    "# Make sure to use numpy functions otherwise performance gains are negated!\n",
    "start = time.time()\n",
    "np.sum(np.array(range(1000000)))\n",
    "end = time.time()\n",
    "print(f'wrong numpy sum: {(end - start) * 1000} ms')"
   ]
  },
  {
   "cell_type": "code",
   "execution_count": null,
   "metadata": {
    "collapsed": false,
    "pycharm": {
     "is_executing": true,
     "name": "#%%\n"
    }
   },
   "outputs": [],
   "source": [
    "taxa: list = ['Carteria marina', 'Coccopterum labyrinthus', 'Dunaliella tertiolecta', 'Halosphaera minor', 'Halosphaera viridis']\n",
    "\n",
    "start = time.time()\n",
    "# Put here the old version of the loop that i was using by looping through the list\n",
    "end = time.time()\n",
    "# print(worms)\n",
    "print(f'pyworms many calls: {(end - start) * 1000} ms')\n",
    "\n",
    "start = time.time()\n",
    "worms: list = pyworms.aphiaRecordsByMatchNames(taxa)\n",
    "end = time.time()\n",
    "print(worms)\n",
    "print(f'pyworms one call: {(end - start) * 1000} ms')"
   ]
  },
  {
   "cell_type": "code",
   "execution_count": null,
   "metadata": {
    "collapsed": false,
    "pycharm": {
     "name": "#%%\n"
    }
   },
   "outputs": [],
   "source": []
  }
 ],
 "metadata": {
  "kernelspec": {
   "display_name": "Python 3",
   "language": "python",
   "name": "python3"
  },
  "language_info": {
   "codemirror_mode": {
    "name": "ipython",
    "version": 2
   },
   "file_extension": ".py",
   "mimetype": "text/x-python",
   "name": "python",
   "nbconvert_exporter": "python",
   "pygments_lexer": "ipython2",
   "version": "2.7.6"
  }
 },
 "nbformat": 4,
 "nbformat_minor": 0
}
