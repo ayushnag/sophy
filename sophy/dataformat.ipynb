{
 "cells": [
  {
   "cell_type": "markdown",
   "metadata": {
    "collapsed": false
   },
   "source": [
    "## Transformations used to convert original dataset to match SOPHY"
   ]
  },
  {
   "cell_type": "code",
   "execution_count": 30,
   "metadata": {
    "collapsed": false
   },
   "outputs": [],
   "source": [
    "import os\n",
    "import pandas as pd\n",
    "import numpy as np\n",
    "import sqlite3\n",
    "import cartopy.crs as ccrs\n",
    "import geopandas as gpd\n",
    "from geopandas import GeoDataFrame\n",
    "from pandas import DataFrame, Series, Index"
   ]
  },
  {
   "cell_type": "code",
   "execution_count": 19,
   "outputs": [],
   "source": [
    "con: sqlite3.Connection = sqlite3.connect(\":memory:\")\n",
    "with open('schema.sql', 'r') as sql_file:\n",
    "    con.executescript(sql_file.read())\n",
    "con.commit()"
   ],
   "metadata": {
    "collapsed": false
   }
  },
  {
   "cell_type": "code",
   "execution_count": 34,
   "outputs": [],
   "source": [
    "sophy_xlsx_output: str = '../data/out/sophy.xlsx'\n",
    "zones_shapefile: str = '../data/out/shapefiles/zones/so_zones.shp'\n",
    "lter1_file: str = \"../data/in/datasets/unmodified/AntarcticaLTERcompiledData_Cruise_forEDI.csv\"\n",
    "lter2_file:str = \"../data/in/datasets/unmodified/AntarcticaLTERcompiledData_Station_forEDI.csv\"\n",
    "worms_dir: str = '../data/in/worms/'\n",
    "phytobase_file: str = '../data/in/datasets/mod/phytobase.csv'\n",
    "phytobase_worms_file = '../data/in/worms/phytobase_worms.csv'\n",
    "joywarren_file: str = '../data/in/datasets/modified/joy_warren.csv'\n",
    "joywarren_worms_file: str = '../data/in/worms/joy_warren_worms.csv'\n",
    "joywarren_chemtax_file: str = '../data/in/datasets/modified/joy_warren_chemtax.csv'\n",
    "joywarren_microscopy_file: str = '../data/in/datasets/modified/joy_warren_microscopy.csv'\n",
    "units_csv: str = '../data/in/units.csv'\n",
    "\n",
    "# worms output -> sql col name. Also include columns from the original data that are needed but don't need renaming\n",
    "# Ex: \"class\" -> \"class\" means col name is correct but class column is needed for calculations and/or used in database\n",
    "worms_sql: dict = {\"AphiaID\": \"aphia_id\", \"scientificname\": \"name\", \"authority\": \"authority\",\n",
    "                   \"superkingdom\": \"superkingdom\",\n",
    "                   \"kingdom\": \"kingdom\", \"phylum\": \"phylum\", \"subphylum\": \"subphylum\", \"superclass\": \"superclass\",\n",
    "                   \"class\": \"class\", \"subclass\": \"subclass\", \"superorder\": \"superorder\", \"order\": \"orders\",\n",
    "                   \"suborder\": \"suborder\", \"infraorder\": \"infraorder\", \"superfamily\": \"superfamily\",\n",
    "                   \"family\": \"family\", \"genus\": \"genus\", \"species\": \"species\", \"modified\": \"modified\"}\n",
    "\n",
    "def get_table_cols(table: str) -> tuple:\n",
    "    \"\"\"List of columns in SQL table\"\"\"\n",
    "    data = con.execute(f\"pragma table_info({table})\").fetchall()\n",
    "    if data: return list(zip(*data))[1]\n",
    "    else: raise ValueError(f\"Table {table} does not exist in the database\")\n",
    "\n",
    "def get_taxonomy() -> DataFrame:\n",
    "    \"\"\"Writes stored WoRMS queries to database\"\"\"\n",
    "    result = None\n",
    "    for file in os.listdir(worms_dir):\n",
    "        if file.endswith('.csv'):\n",
    "            new = pd.read_csv(worms_dir + file, encoding='utf-8').drop_duplicates(subset=['AphiaID']).rename(\n",
    "                columns=worms_sql)\n",
    "            result = pd.concat([result, new], ignore_index=True)\n",
    "    result = result.drop_duplicates(subset=['aphia_id'])\n",
    "    return result"
   ],
   "metadata": {
    "collapsed": false
   }
  },
  {
   "cell_type": "markdown",
   "metadata": {
    "collapsed": false
   },
   "source": [
    "1) Palmer LTER dataset\n",
    "- Link to source and info"
   ]
  },
  {
   "cell_type": "code",
   "execution_count": 21,
   "metadata": {
    "collapsed": false
   },
   "outputs": [
    {
     "data": {
      "text/plain": "        cruise            timestamp  latitude  longitude     depth  \\\n0      PD91-09  1991-11-07 00:36:00 -64.83333  -64.05167   2.14998   \n1      PD91-09  1991-11-07 00:36:00 -64.83333  -64.05167  10.48500   \n2      PD91-09  1991-11-07 00:36:00 -64.83333  -64.05167  20.44900   \n3      PD91-09  1991-11-07 00:36:00 -64.83333  -64.05167  30.60000   \n4      PD91-09  1991-11-07 00:36:00 -64.83333  -64.05167  40.54660   \n...        ...                  ...       ...        ...       ...   \n19341  PAL2021  2021-05-04 00:00:00 -64.81500  -64.04050  20.00000   \n19342  PAL2021  2021-05-04 00:00:00 -64.81500  -64.04050  35.00000   \n19343  PAL2021  2021-05-04 00:00:00 -64.81500  -64.04050  50.00000   \n19344  PAL2021  2021-05-04 00:00:00 -64.81500  -64.04050  65.00000   \n19345  PAL2021  2021-05-04 00:00:00 -64.47249  -63.04499   0.00000   \n\n       temperature  salinity  par     chl_a  chemtax_prasinophytes  ...  \\\n0          -1.7618    33.791  NaN  0.397000               0.139939  ...   \n1          -1.7445    33.798  NaN  0.298000                    NaN  ...   \n2          -1.6974    33.820  NaN  0.265000               0.116048  ...   \n3          -1.6188    33.846  NaN       NaN                    NaN  ...   \n4          -1.4717    33.879  NaN  0.284000               0.002492  ...   \n...            ...       ...  ...       ...                    ...  ...   \n19341          NaN       NaN  NaN  0.533521                    NaN  ...   \n19342          NaN       NaN  NaN  0.488506                    NaN  ...   \n19343          NaN       NaN  NaN  0.430152                    NaN  ...   \n19344          NaN       NaN  NaN  0.355125                    NaN  ...   \n19345          NaN       NaN  NaN  0.415146                    NaN  ...   \n\n       phosphate  silicate  nitrite  nitrate  percent_phaeo  percent_diatom  \\\n0            NaN       NaN      NaN      NaN       0.000000        0.000603   \n1            NaN       NaN      NaN      NaN            NaN             NaN   \n2            NaN       NaN      NaN      NaN       0.000000        0.000000   \n3            NaN       NaN      NaN      NaN            NaN             NaN   \n4            NaN       NaN      NaN      NaN       0.073917        0.388492   \n...          ...       ...      ...      ...            ...             ...   \n19341        NaN       NaN      NaN      NaN            NaN             NaN   \n19342        NaN       NaN      NaN      NaN            NaN             NaN   \n19343        NaN       NaN      NaN      NaN            NaN             NaN   \n19344        NaN       NaN      NaN      NaN            NaN             NaN   \n19345        NaN       NaN      NaN      NaN            NaN             NaN   \n\n       percent_other  front_zone  sector  \\\n0           0.999397         SIZ      BA   \n1                NaN         SIZ      BA   \n2           1.000000         SIZ      BA   \n3                NaN         SIZ      BA   \n4           0.537591         SIZ      BA   \n...              ...         ...     ...   \n19341            NaN         SIZ      BA   \n19342            NaN         SIZ      BA   \n19343            NaN         SIZ      BA   \n19344            NaN         SIZ      BA   \n19345            NaN         SIZ      BA   \n\n                                              extra_json  \n0      {\"Alloxanthin\":0.0,\"BetaCarotene\":0.00219978,\"...  \n1      {\"BottleNumber\":11.0,\"Event\":1.0,\"FilterCode\":...  \n2      {\"Alloxanthin\":0.0,\"BetaCarotene\":0.00393294,\"...  \n3      {\"Event\":1.0,\"GridLine\":619.0,\"GridRegion\":\"NC...  \n4      {\"Alloxanthin\":0.0,\"BetaCarotene\":0.00564388,\"...  \n...                                                  ...  \n19341  {\"Event\":54.0,\"FilterCode\":5.0,\"JulianDay\":124...  \n19342  {\"Event\":54.0,\"FilterCode\":5.0,\"JulianDay\":124...  \n19343  {\"Event\":54.0,\"FilterCode\":5.0,\"JulianDay\":124...  \n19344  {\"Event\":54.0,\"FilterCode\":5.0,\"JulianDay\":124...  \n19345  {\"Event\":54.0,\"FilterCode\":5.0,\"JulianDay\":124...  \n\n[49225 rows x 24 columns]",
      "text/html": "<div>\n<style scoped>\n    .dataframe tbody tr th:only-of-type {\n        vertical-align: middle;\n    }\n\n    .dataframe tbody tr th {\n        vertical-align: top;\n    }\n\n    .dataframe thead th {\n        text-align: right;\n    }\n</style>\n<table border=\"1\" class=\"dataframe\">\n  <thead>\n    <tr style=\"text-align: right;\">\n      <th></th>\n      <th>cruise</th>\n      <th>timestamp</th>\n      <th>latitude</th>\n      <th>longitude</th>\n      <th>depth</th>\n      <th>temperature</th>\n      <th>salinity</th>\n      <th>par</th>\n      <th>chl_a</th>\n      <th>chemtax_prasinophytes</th>\n      <th>...</th>\n      <th>phosphate</th>\n      <th>silicate</th>\n      <th>nitrite</th>\n      <th>nitrate</th>\n      <th>percent_phaeo</th>\n      <th>percent_diatom</th>\n      <th>percent_other</th>\n      <th>front_zone</th>\n      <th>sector</th>\n      <th>extra_json</th>\n    </tr>\n  </thead>\n  <tbody>\n    <tr>\n      <th>0</th>\n      <td>PD91-09</td>\n      <td>1991-11-07 00:36:00</td>\n      <td>-64.83333</td>\n      <td>-64.05167</td>\n      <td>2.14998</td>\n      <td>-1.7618</td>\n      <td>33.791</td>\n      <td>NaN</td>\n      <td>0.397000</td>\n      <td>0.139939</td>\n      <td>...</td>\n      <td>NaN</td>\n      <td>NaN</td>\n      <td>NaN</td>\n      <td>NaN</td>\n      <td>0.000000</td>\n      <td>0.000603</td>\n      <td>0.999397</td>\n      <td>SIZ</td>\n      <td>BA</td>\n      <td>{\"Alloxanthin\":0.0,\"BetaCarotene\":0.00219978,\"...</td>\n    </tr>\n    <tr>\n      <th>1</th>\n      <td>PD91-09</td>\n      <td>1991-11-07 00:36:00</td>\n      <td>-64.83333</td>\n      <td>-64.05167</td>\n      <td>10.48500</td>\n      <td>-1.7445</td>\n      <td>33.798</td>\n      <td>NaN</td>\n      <td>0.298000</td>\n      <td>NaN</td>\n      <td>...</td>\n      <td>NaN</td>\n      <td>NaN</td>\n      <td>NaN</td>\n      <td>NaN</td>\n      <td>NaN</td>\n      <td>NaN</td>\n      <td>NaN</td>\n      <td>SIZ</td>\n      <td>BA</td>\n      <td>{\"BottleNumber\":11.0,\"Event\":1.0,\"FilterCode\":...</td>\n    </tr>\n    <tr>\n      <th>2</th>\n      <td>PD91-09</td>\n      <td>1991-11-07 00:36:00</td>\n      <td>-64.83333</td>\n      <td>-64.05167</td>\n      <td>20.44900</td>\n      <td>-1.6974</td>\n      <td>33.820</td>\n      <td>NaN</td>\n      <td>0.265000</td>\n      <td>0.116048</td>\n      <td>...</td>\n      <td>NaN</td>\n      <td>NaN</td>\n      <td>NaN</td>\n      <td>NaN</td>\n      <td>0.000000</td>\n      <td>0.000000</td>\n      <td>1.000000</td>\n      <td>SIZ</td>\n      <td>BA</td>\n      <td>{\"Alloxanthin\":0.0,\"BetaCarotene\":0.00393294,\"...</td>\n    </tr>\n    <tr>\n      <th>3</th>\n      <td>PD91-09</td>\n      <td>1991-11-07 00:36:00</td>\n      <td>-64.83333</td>\n      <td>-64.05167</td>\n      <td>30.60000</td>\n      <td>-1.6188</td>\n      <td>33.846</td>\n      <td>NaN</td>\n      <td>NaN</td>\n      <td>NaN</td>\n      <td>...</td>\n      <td>NaN</td>\n      <td>NaN</td>\n      <td>NaN</td>\n      <td>NaN</td>\n      <td>NaN</td>\n      <td>NaN</td>\n      <td>NaN</td>\n      <td>SIZ</td>\n      <td>BA</td>\n      <td>{\"Event\":1.0,\"GridLine\":619.0,\"GridRegion\":\"NC...</td>\n    </tr>\n    <tr>\n      <th>4</th>\n      <td>PD91-09</td>\n      <td>1991-11-07 00:36:00</td>\n      <td>-64.83333</td>\n      <td>-64.05167</td>\n      <td>40.54660</td>\n      <td>-1.4717</td>\n      <td>33.879</td>\n      <td>NaN</td>\n      <td>0.284000</td>\n      <td>0.002492</td>\n      <td>...</td>\n      <td>NaN</td>\n      <td>NaN</td>\n      <td>NaN</td>\n      <td>NaN</td>\n      <td>0.073917</td>\n      <td>0.388492</td>\n      <td>0.537591</td>\n      <td>SIZ</td>\n      <td>BA</td>\n      <td>{\"Alloxanthin\":0.0,\"BetaCarotene\":0.00564388,\"...</td>\n    </tr>\n    <tr>\n      <th>...</th>\n      <td>...</td>\n      <td>...</td>\n      <td>...</td>\n      <td>...</td>\n      <td>...</td>\n      <td>...</td>\n      <td>...</td>\n      <td>...</td>\n      <td>...</td>\n      <td>...</td>\n      <td>...</td>\n      <td>...</td>\n      <td>...</td>\n      <td>...</td>\n      <td>...</td>\n      <td>...</td>\n      <td>...</td>\n      <td>...</td>\n      <td>...</td>\n      <td>...</td>\n      <td>...</td>\n    </tr>\n    <tr>\n      <th>19341</th>\n      <td>PAL2021</td>\n      <td>2021-05-04 00:00:00</td>\n      <td>-64.81500</td>\n      <td>-64.04050</td>\n      <td>20.00000</td>\n      <td>NaN</td>\n      <td>NaN</td>\n      <td>NaN</td>\n      <td>0.533521</td>\n      <td>NaN</td>\n      <td>...</td>\n      <td>NaN</td>\n      <td>NaN</td>\n      <td>NaN</td>\n      <td>NaN</td>\n      <td>NaN</td>\n      <td>NaN</td>\n      <td>NaN</td>\n      <td>SIZ</td>\n      <td>BA</td>\n      <td>{\"Event\":54.0,\"FilterCode\":5.0,\"JulianDay\":124...</td>\n    </tr>\n    <tr>\n      <th>19342</th>\n      <td>PAL2021</td>\n      <td>2021-05-04 00:00:00</td>\n      <td>-64.81500</td>\n      <td>-64.04050</td>\n      <td>35.00000</td>\n      <td>NaN</td>\n      <td>NaN</td>\n      <td>NaN</td>\n      <td>0.488506</td>\n      <td>NaN</td>\n      <td>...</td>\n      <td>NaN</td>\n      <td>NaN</td>\n      <td>NaN</td>\n      <td>NaN</td>\n      <td>NaN</td>\n      <td>NaN</td>\n      <td>NaN</td>\n      <td>SIZ</td>\n      <td>BA</td>\n      <td>{\"Event\":54.0,\"FilterCode\":5.0,\"JulianDay\":124...</td>\n    </tr>\n    <tr>\n      <th>19343</th>\n      <td>PAL2021</td>\n      <td>2021-05-04 00:00:00</td>\n      <td>-64.81500</td>\n      <td>-64.04050</td>\n      <td>50.00000</td>\n      <td>NaN</td>\n      <td>NaN</td>\n      <td>NaN</td>\n      <td>0.430152</td>\n      <td>NaN</td>\n      <td>...</td>\n      <td>NaN</td>\n      <td>NaN</td>\n      <td>NaN</td>\n      <td>NaN</td>\n      <td>NaN</td>\n      <td>NaN</td>\n      <td>NaN</td>\n      <td>SIZ</td>\n      <td>BA</td>\n      <td>{\"Event\":54.0,\"FilterCode\":5.0,\"JulianDay\":124...</td>\n    </tr>\n    <tr>\n      <th>19344</th>\n      <td>PAL2021</td>\n      <td>2021-05-04 00:00:00</td>\n      <td>-64.81500</td>\n      <td>-64.04050</td>\n      <td>65.00000</td>\n      <td>NaN</td>\n      <td>NaN</td>\n      <td>NaN</td>\n      <td>0.355125</td>\n      <td>NaN</td>\n      <td>...</td>\n      <td>NaN</td>\n      <td>NaN</td>\n      <td>NaN</td>\n      <td>NaN</td>\n      <td>NaN</td>\n      <td>NaN</td>\n      <td>NaN</td>\n      <td>SIZ</td>\n      <td>BA</td>\n      <td>{\"Event\":54.0,\"FilterCode\":5.0,\"JulianDay\":124...</td>\n    </tr>\n    <tr>\n      <th>19345</th>\n      <td>PAL2021</td>\n      <td>2021-05-04 00:00:00</td>\n      <td>-64.47249</td>\n      <td>-63.04499</td>\n      <td>0.00000</td>\n      <td>NaN</td>\n      <td>NaN</td>\n      <td>NaN</td>\n      <td>0.415146</td>\n      <td>NaN</td>\n      <td>...</td>\n      <td>NaN</td>\n      <td>NaN</td>\n      <td>NaN</td>\n      <td>NaN</td>\n      <td>NaN</td>\n      <td>NaN</td>\n      <td>NaN</td>\n      <td>SIZ</td>\n      <td>BA</td>\n      <td>{\"Event\":54.0,\"FilterCode\":5.0,\"JulianDay\":124...</td>\n    </tr>\n  </tbody>\n</table>\n<p>49225 rows × 24 columns</p>\n</div>"
     },
     "execution_count": 21,
     "metadata": {},
     "output_type": "execute_result"
    }
   ],
   "source": [
    "lter1 = pd.read_csv(lter1_file)\n",
    "lter2 = pd.read_csv(lter2_file)\n",
    "\n",
    "lter_sql: dict = {\"DatetimeGMT\": \"timestamp\", \"Latitude\": \"latitude\", \"Longitude\": \"longitude\",\n",
    "                  \"Depth\": \"depth\", \"Temperature\": \"temperature\", \"Salinity\": \"salinity\", \"Density\": \"density\",\n",
    "                  \"Chlorophyll\": \"chl_a\", \"Fluorescence\": \"fluorescence\", \"Phaeopigment\": \"phaeopigments\",\n",
    "                  \"PrimaryProduction\": \"primary_prod\", \"studyName\": \"cruise\", \"PAR\": \"par\",\n",
    "                  \"Prasinophytes\": \"chemtax_prasinophytes\", \"Cryptophytes\": \"chemtax_cryptophytes\",\n",
    "                  \"MixedFlagellates\": \"chemtax_mixed_flagellates\", \"Diatoms\": \"chemtax_diatoms\",\n",
    "                  \"Haptophytes\": \"chemtax_haptophytes\", \"NO3\": \"nitrate\", \"NO2\": \"nitrite\",\n",
    "                  \"DIC1\": \"diss_inorg_carbon\", \"DOC\": \"diss_org_carbon\", \"POC\": \"part_org_carbon\",\n",
    "                  \"SiO4\": \"silicate\", \"N\": \"tot_nitrogen\", \"PO4\": \"phosphate\", \"Notes1\": \"notes\"}\n",
    "\n",
    "lter1 = lter1.rename(columns=lter_sql)\n",
    "lter2 = lter2.rename(columns=lter_sql)\n",
    "lter: DataFrame = pd.concat([lter1, lter2])\n",
    "lter = lter.dropna(subset=['timestamp', 'longitude', 'latitude'])\n",
    "lter = lter[lter['longitude'].between(-180, 180)]\n",
    "lter = lter[lter['latitude'] <= -30]\n",
    "# Group chemtax into three main categories\n",
    "lter['percent_phaeo'] = lter['chemtax_haptophytes']\n",
    "lter['percent_diatom'] = lter['chemtax_diatoms']\n",
    "lter['percent_other'] = lter['chemtax_prasinophytes'] + lter['chemtax_mixed_flagellates'] + lter['chemtax_cryptophytes']\n",
    "\n",
    "data_gdf = GeoDataFrame(lter, geometry=gpd.points_from_xy(lter['longitude'], lter['latitude']), crs='EPSG:4326')\n",
    "data_gdf = data_gdf.to_crs(crs=ccrs.SouthPolarStereo())\n",
    "zones_gdf = gpd.read_file(zones_shapefile).to_crs(ccrs.SouthPolarStereo())\n",
    "# Spatially join data points with zones (polygons) to get labelled data\n",
    "lter = DataFrame(data_gdf.sjoin(zones_gdf, how='left').drop(columns=['geometry', 'index_right']))\n",
    "# Labels data by Southern Ocean sectors (bins) and their longitude range\n",
    "# Ross Sea sector overlaps with the start and end of range: [-180, 180] so it is defined with two split ranges\n",
    "sectors_series: Series = pd.cut(lter['longitude'], bins=[-180, -130, -60, 20, 90, 160, 180],\n",
    "                                    labels=['Ross', 'BA', 'Weddell', 'Indian', 'WPO', 'Ross'], ordered=False)\n",
    "lter = lter.assign(sector=sectors_series)\n",
    "\n",
    "extra: Index = lter.columns.difference(get_table_cols(\"sample\"))\n",
    "lter[\"extra_json\"] = lter[extra].agg(lambda r: r[r.notna()].to_json(), axis=1)\n",
    "lter = lter.drop(extra, axis=1)\n",
    "lter"
   ]
  },
  {
   "cell_type": "code",
   "execution_count": 22,
   "metadata": {
    "collapsed": false
   },
   "outputs": [
    {
     "data": {
      "text/plain": "49225"
     },
     "execution_count": 22,
     "metadata": {},
     "output_type": "execute_result"
    }
   ],
   "source": [
    "lter.to_sql(name='sample', con=con, if_exists='append', index=False)"
   ]
  },
  {
   "cell_type": "markdown",
   "metadata": {
    "collapsed": false
   },
   "source": [
    "2) Joy-Warren 2019 dataset\n",
    "- Link to source and info"
   ]
  },
  {
   "cell_type": "code",
   "execution_count": 25,
   "metadata": {
    "collapsed": false
   },
   "outputs": [
    {
     "data": {
      "text/plain": "     depth  chemtax_chlorophytes  chemtax_mixed_flagellates  \\\n0      9.8              0.001490                   0.000002   \n1      3.5              0.048396                   0.023013   \n2     76.3              0.103945                   0.046908   \n3     24.7              0.001383                   0.000830   \n4    100.1              0.039702                   0.015726   \n..     ...                   ...                        ...   \n246    9.9              0.072893                   0.006168   \n247   99.2              0.000000                   0.000000   \n248    1.3              0.085356                   0.004651   \n249   48.8              0.065835                   0.000000   \n250    9.5              0.150134                   0.014458   \n\n     chemtax_cryptophytes  chemtax_haptophytes  chemtax_diatoms  latitude  \\\n0                0.032421             0.478822         0.487265  -62.7033   \n1                0.034700             0.423520         0.470371  -62.7033   \n2                0.021846             0.397119         0.430182  -62.7033   \n3                0.028901             0.350910         0.617978  -62.7033   \n4                0.028563             0.357956         0.558053  -62.7033   \n..                    ...                  ...              ...       ...   \n246              0.029439             0.459095         0.432405  -65.8500   \n247              0.000000             0.474952         0.525048  -65.8500   \n248              0.028932             0.469119         0.411942  -65.8500   \n249              0.000000             0.512621         0.421544  -65.8500   \n250              0.072864             0.401700         0.360843  -66.0510   \n\n     longitude  temperature   salinity  ...  silicate  timestamp  source_name  \\\n0     -69.6903    -0.677414  33.799114  ...    22.600 2014-10-31         joyw   \n1     -69.6903    -0.677300  33.798900  ...       NaN 2014-10-31         joyw   \n2     -69.6903    -0.681500  33.799200  ...       NaN 2014-10-31         joyw   \n3     -69.6903    -0.677767  33.799067  ...       NaN 2014-10-31         joyw   \n4     -69.6903    -0.681550  33.800650  ...       NaN 2014-10-31         joyw   \n..         ...          ...        ...  ...       ...        ...          ...   \n246   -71.3753    -1.709362  33.805200  ...       NaN 2014-11-21         joyw   \n247   -71.3753     1.409000  34.363800  ...    65.970 2014-11-21         joyw   \n248   -71.3753    -1.687700  33.802200  ...    44.440 2014-11-21         joyw   \n249   -71.3753    -1.443133  33.945317  ...    51.825 2014-11-21         joyw   \n250   -70.8990    -1.829625  33.828425  ...    49.510 2014-11-21         joyw   \n\n     percent_phaeo percent_diatom percent_other     id  \\\n0         0.478822       0.487265      0.033913  49226   \n1         0.423520       0.470371      0.106109  49227   \n2         0.397119       0.430182      0.172699  49228   \n3         0.350910       0.617978      0.031113  49229   \n4         0.357956       0.558053      0.083991  49230   \n..             ...            ...           ...    ...   \n246       0.459095       0.432405      0.108500  49472   \n247       0.474952       0.525048      0.000000  49473   \n248       0.469119       0.411942      0.118939  49474   \n249       0.512621       0.421544      0.065835  49475   \n250       0.401700       0.360843      0.237456  49476   \n\n                                            extra_json  front_zone  sector  \n0    {\"CTDFLUOR_UP\":0.9224714286,\"CTDOXY2_UP\":8.049...         ASZ      BA  \n1    {\"CTDFLUOR_UP\":0.90615,\"CTDOXY2_UP\":8.04509,\"C...         ASZ      BA  \n2    {\"CTDFLUOR_UP\":0.8833,\"CTDOXY2_UP\":8.05498,\"CT...         ASZ      BA  \n3    {\"CTDFLUOR_UP\":0.9033333333,\"CTDOXY2_UP\":8.044...         ASZ      BA  \n4    {\"CTDFLUOR_UP\":0.86,\"CTDOXY2_UP\":8.03891,\"CTDO...         ASZ      BA  \n..                                                 ...         ...     ...  \n246  {\"CTDFLUOR_UP\":1.5700625,\"CTDOXY2_UP\":8.010118...         SIZ      BA  \n247  {\"CTDFLUOR_UP\":0.0202,\"CTDOXY2_UP\":4.76686,\"CT...         SIZ      BA  \n248  {\"CTDFLUOR_UP\":1.3039,\"CTDOXY2_UP\":8.02862,\"CT...         SIZ      BA  \n249  {\"CTDFLUOR_UP\":0.5041833333,\"CTDOXY2_UP\":7.346...         SIZ      BA  \n250  {\"CTDFLUOR_UP\":0.508925,\"CTDOXY2_UP\":7.71157,\"...         SIZ      BA  \n\n[251 rows x 23 columns]",
      "text/html": "<div>\n<style scoped>\n    .dataframe tbody tr th:only-of-type {\n        vertical-align: middle;\n    }\n\n    .dataframe tbody tr th {\n        vertical-align: top;\n    }\n\n    .dataframe thead th {\n        text-align: right;\n    }\n</style>\n<table border=\"1\" class=\"dataframe\">\n  <thead>\n    <tr style=\"text-align: right;\">\n      <th></th>\n      <th>depth</th>\n      <th>chemtax_chlorophytes</th>\n      <th>chemtax_mixed_flagellates</th>\n      <th>chemtax_cryptophytes</th>\n      <th>chemtax_haptophytes</th>\n      <th>chemtax_diatoms</th>\n      <th>latitude</th>\n      <th>longitude</th>\n      <th>temperature</th>\n      <th>salinity</th>\n      <th>...</th>\n      <th>silicate</th>\n      <th>timestamp</th>\n      <th>source_name</th>\n      <th>percent_phaeo</th>\n      <th>percent_diatom</th>\n      <th>percent_other</th>\n      <th>id</th>\n      <th>extra_json</th>\n      <th>front_zone</th>\n      <th>sector</th>\n    </tr>\n  </thead>\n  <tbody>\n    <tr>\n      <th>0</th>\n      <td>9.8</td>\n      <td>0.001490</td>\n      <td>0.000002</td>\n      <td>0.032421</td>\n      <td>0.478822</td>\n      <td>0.487265</td>\n      <td>-62.7033</td>\n      <td>-69.6903</td>\n      <td>-0.677414</td>\n      <td>33.799114</td>\n      <td>...</td>\n      <td>22.600</td>\n      <td>2014-10-31</td>\n      <td>joyw</td>\n      <td>0.478822</td>\n      <td>0.487265</td>\n      <td>0.033913</td>\n      <td>49226</td>\n      <td>{\"CTDFLUOR_UP\":0.9224714286,\"CTDOXY2_UP\":8.049...</td>\n      <td>ASZ</td>\n      <td>BA</td>\n    </tr>\n    <tr>\n      <th>1</th>\n      <td>3.5</td>\n      <td>0.048396</td>\n      <td>0.023013</td>\n      <td>0.034700</td>\n      <td>0.423520</td>\n      <td>0.470371</td>\n      <td>-62.7033</td>\n      <td>-69.6903</td>\n      <td>-0.677300</td>\n      <td>33.798900</td>\n      <td>...</td>\n      <td>NaN</td>\n      <td>2014-10-31</td>\n      <td>joyw</td>\n      <td>0.423520</td>\n      <td>0.470371</td>\n      <td>0.106109</td>\n      <td>49227</td>\n      <td>{\"CTDFLUOR_UP\":0.90615,\"CTDOXY2_UP\":8.04509,\"C...</td>\n      <td>ASZ</td>\n      <td>BA</td>\n    </tr>\n    <tr>\n      <th>2</th>\n      <td>76.3</td>\n      <td>0.103945</td>\n      <td>0.046908</td>\n      <td>0.021846</td>\n      <td>0.397119</td>\n      <td>0.430182</td>\n      <td>-62.7033</td>\n      <td>-69.6903</td>\n      <td>-0.681500</td>\n      <td>33.799200</td>\n      <td>...</td>\n      <td>NaN</td>\n      <td>2014-10-31</td>\n      <td>joyw</td>\n      <td>0.397119</td>\n      <td>0.430182</td>\n      <td>0.172699</td>\n      <td>49228</td>\n      <td>{\"CTDFLUOR_UP\":0.8833,\"CTDOXY2_UP\":8.05498,\"CT...</td>\n      <td>ASZ</td>\n      <td>BA</td>\n    </tr>\n    <tr>\n      <th>3</th>\n      <td>24.7</td>\n      <td>0.001383</td>\n      <td>0.000830</td>\n      <td>0.028901</td>\n      <td>0.350910</td>\n      <td>0.617978</td>\n      <td>-62.7033</td>\n      <td>-69.6903</td>\n      <td>-0.677767</td>\n      <td>33.799067</td>\n      <td>...</td>\n      <td>NaN</td>\n      <td>2014-10-31</td>\n      <td>joyw</td>\n      <td>0.350910</td>\n      <td>0.617978</td>\n      <td>0.031113</td>\n      <td>49229</td>\n      <td>{\"CTDFLUOR_UP\":0.9033333333,\"CTDOXY2_UP\":8.044...</td>\n      <td>ASZ</td>\n      <td>BA</td>\n    </tr>\n    <tr>\n      <th>4</th>\n      <td>100.1</td>\n      <td>0.039702</td>\n      <td>0.015726</td>\n      <td>0.028563</td>\n      <td>0.357956</td>\n      <td>0.558053</td>\n      <td>-62.7033</td>\n      <td>-69.6903</td>\n      <td>-0.681550</td>\n      <td>33.800650</td>\n      <td>...</td>\n      <td>NaN</td>\n      <td>2014-10-31</td>\n      <td>joyw</td>\n      <td>0.357956</td>\n      <td>0.558053</td>\n      <td>0.083991</td>\n      <td>49230</td>\n      <td>{\"CTDFLUOR_UP\":0.86,\"CTDOXY2_UP\":8.03891,\"CTDO...</td>\n      <td>ASZ</td>\n      <td>BA</td>\n    </tr>\n    <tr>\n      <th>...</th>\n      <td>...</td>\n      <td>...</td>\n      <td>...</td>\n      <td>...</td>\n      <td>...</td>\n      <td>...</td>\n      <td>...</td>\n      <td>...</td>\n      <td>...</td>\n      <td>...</td>\n      <td>...</td>\n      <td>...</td>\n      <td>...</td>\n      <td>...</td>\n      <td>...</td>\n      <td>...</td>\n      <td>...</td>\n      <td>...</td>\n      <td>...</td>\n      <td>...</td>\n      <td>...</td>\n    </tr>\n    <tr>\n      <th>246</th>\n      <td>9.9</td>\n      <td>0.072893</td>\n      <td>0.006168</td>\n      <td>0.029439</td>\n      <td>0.459095</td>\n      <td>0.432405</td>\n      <td>-65.8500</td>\n      <td>-71.3753</td>\n      <td>-1.709362</td>\n      <td>33.805200</td>\n      <td>...</td>\n      <td>NaN</td>\n      <td>2014-11-21</td>\n      <td>joyw</td>\n      <td>0.459095</td>\n      <td>0.432405</td>\n      <td>0.108500</td>\n      <td>49472</td>\n      <td>{\"CTDFLUOR_UP\":1.5700625,\"CTDOXY2_UP\":8.010118...</td>\n      <td>SIZ</td>\n      <td>BA</td>\n    </tr>\n    <tr>\n      <th>247</th>\n      <td>99.2</td>\n      <td>0.000000</td>\n      <td>0.000000</td>\n      <td>0.000000</td>\n      <td>0.474952</td>\n      <td>0.525048</td>\n      <td>-65.8500</td>\n      <td>-71.3753</td>\n      <td>1.409000</td>\n      <td>34.363800</td>\n      <td>...</td>\n      <td>65.970</td>\n      <td>2014-11-21</td>\n      <td>joyw</td>\n      <td>0.474952</td>\n      <td>0.525048</td>\n      <td>0.000000</td>\n      <td>49473</td>\n      <td>{\"CTDFLUOR_UP\":0.0202,\"CTDOXY2_UP\":4.76686,\"CT...</td>\n      <td>SIZ</td>\n      <td>BA</td>\n    </tr>\n    <tr>\n      <th>248</th>\n      <td>1.3</td>\n      <td>0.085356</td>\n      <td>0.004651</td>\n      <td>0.028932</td>\n      <td>0.469119</td>\n      <td>0.411942</td>\n      <td>-65.8500</td>\n      <td>-71.3753</td>\n      <td>-1.687700</td>\n      <td>33.802200</td>\n      <td>...</td>\n      <td>44.440</td>\n      <td>2014-11-21</td>\n      <td>joyw</td>\n      <td>0.469119</td>\n      <td>0.411942</td>\n      <td>0.118939</td>\n      <td>49474</td>\n      <td>{\"CTDFLUOR_UP\":1.3039,\"CTDOXY2_UP\":8.02862,\"CT...</td>\n      <td>SIZ</td>\n      <td>BA</td>\n    </tr>\n    <tr>\n      <th>249</th>\n      <td>48.8</td>\n      <td>0.065835</td>\n      <td>0.000000</td>\n      <td>0.000000</td>\n      <td>0.512621</td>\n      <td>0.421544</td>\n      <td>-65.8500</td>\n      <td>-71.3753</td>\n      <td>-1.443133</td>\n      <td>33.945317</td>\n      <td>...</td>\n      <td>51.825</td>\n      <td>2014-11-21</td>\n      <td>joyw</td>\n      <td>0.512621</td>\n      <td>0.421544</td>\n      <td>0.065835</td>\n      <td>49475</td>\n      <td>{\"CTDFLUOR_UP\":0.5041833333,\"CTDOXY2_UP\":7.346...</td>\n      <td>SIZ</td>\n      <td>BA</td>\n    </tr>\n    <tr>\n      <th>250</th>\n      <td>9.5</td>\n      <td>0.150134</td>\n      <td>0.014458</td>\n      <td>0.072864</td>\n      <td>0.401700</td>\n      <td>0.360843</td>\n      <td>-66.0510</td>\n      <td>-70.8990</td>\n      <td>-1.829625</td>\n      <td>33.828425</td>\n      <td>...</td>\n      <td>49.510</td>\n      <td>2014-11-21</td>\n      <td>joyw</td>\n      <td>0.401700</td>\n      <td>0.360843</td>\n      <td>0.237456</td>\n      <td>49476</td>\n      <td>{\"CTDFLUOR_UP\":0.508925,\"CTDOXY2_UP\":7.71157,\"...</td>\n      <td>SIZ</td>\n      <td>BA</td>\n    </tr>\n  </tbody>\n</table>\n<p>251 rows × 23 columns</p>\n</div>"
     },
     "execution_count": 25,
     "metadata": {},
     "output_type": "execute_result"
    }
   ],
   "source": [
    "\"\"\"Writes Joy-Warren 2019 dataset to database\"\"\"\n",
    "joyw: DataFrame = pd.read_csv(joywarren_file, encoding='utf-8')\n",
    "# group by depth and station: station1([1.7, 1.8, 2.1][9.7. 9.8, 10.2]...), station2...\n",
    "joyw = joyw.groupby([joyw[\"depth\"].pct_change().abs().gt(0.15).cumsum(), \"station\"]).mean(numeric_only=True)\n",
    "joyw = joyw.reset_index(level=0, drop=True).reset_index(level=0).sort_values(by='depth')\n",
    "joyw.sort_values(by=['station', 'depth'])\n",
    "# --------------------------------------------------\n",
    "jwchemtax: DataFrame = pd.read_csv(joywarren_chemtax_file)\n",
    "jwchemtax = jwchemtax.dropna().sort_values(by='depth')\n",
    "# --------------------------------------------------\n",
    "# Join main sample data with chemtax by matching station and depth\n",
    "joyw: DataFrame = pd.merge_asof(jwchemtax, joyw, by='station', on='depth', direction='nearest',\n",
    "                                  tolerance=2).sort_values(by='station')\n",
    "\n",
    "joyw['timestamp'] = pd.to_datetime(joyw['date'], format='%Y%m%d', errors='coerce').dropna().drop(\n",
    "    columns=['date', 'time'])\n",
    "joyw['source_name'] = 'joyw'\n",
    "joyw['percent_phaeo'] = joyw['chemtax_haptophytes']\n",
    "joyw['percent_diatom'] = joyw['chemtax_diatoms']\n",
    "joyw['percent_other'] = joyw['chemtax_chlorophytes'] + joyw['chemtax_mixed_flagellates'] + joyw['chemtax_cryptophytes']\n",
    "# ----------------------------------------------------\n",
    "# Set id field for sample data so foreign keys for microscopy can be matched\n",
    "joyw = joyw.reset_index(drop=True)\n",
    "max_id: int = pd.read_sql(\"select max(id) from sample\", con=con)['max(id)'][0] + 1\n",
    "joyw['id'] = np.arange(max_id, max_id + len(joyw))\n",
    "jwmkey: DataFrame = pd.concat([joyw['id'], joyw['station'], joyw['depth']], axis=1).sort_values(by='depth')\n",
    "# Group extra columns into JSON\n",
    "extra: Index = joyw.columns.difference(get_table_cols(\"sample\"))\n",
    "joyw[\"extra_json\"] = joyw[extra].agg(lambda r: r[r.notna()].to_json(), axis=1)\n",
    "joyw = joyw.drop(columns=extra, axis=1)\n",
    "\n",
    "microscopy: DataFrame = pd.read_csv(joywarren_microscopy_file, encoding='utf-8').dropna()\n",
    "replace: tuple = ('centric', 'pennate', 'unknown diatom', 'dinoflagellate', 'ciliate', 'silicoflagellate')\n",
    "# are_taxa = rows that have species name we can get taxonomy for (ex: Phaeocystis)\n",
    "are_taxa: Series = ~microscopy['taxa'].isin(replace)\n",
    "taxa: DataFrame = pd.read_csv(joywarren_worms_file, encoding='utf-8').rename(worms_sql)\n",
    "taxa.index = microscopy[are_taxa].index\n",
    "# ----------------------------------\n",
    "microscopy['aphia_id'] = taxa['AphiaID']\n",
    "microscopy = microscopy.sort_values(by='depth')\n",
    "# Join microscopy data with matching id in sample table (by depth and station)\n",
    "microscopy = pd.merge_asof(microscopy, jwmkey, by='station', on='depth', direction='nearest', tolerance=1)\n",
    "microscopy = microscopy.rename({'id': 'sample_id', 'taxa': 'name', 'group': 'groups'},\n",
    "                               axis=\"columns\")\n",
    "# Remove extra columns\n",
    "microscopy = microscopy[microscopy.columns.intersection(get_table_cols(\"microscopy\"))]\n",
    "\n",
    "data_gdf = GeoDataFrame(joyw, geometry=gpd.points_from_xy(joyw['longitude'], joyw['latitude']), crs='EPSG:4326')\n",
    "data_gdf = data_gdf.to_crs(crs=ccrs.SouthPolarStereo())\n",
    "zones_gdf = gpd.read_file(zones_shapefile).to_crs(ccrs.SouthPolarStereo())\n",
    "# Spatially join data points with zones (polygons) to get labels for zones and sectors\n",
    "joyw = DataFrame(data_gdf.sjoin(zones_gdf, how='left').drop(columns=['geometry', 'index_right'])).drop_duplicates(subset=['id'])\n",
    "sectors_series: Series = pd.cut(joyw['longitude'], bins=[-180, -130, -60, 20, 90, 160, 180],\n",
    "                                    labels=['Ross', 'BA', 'Weddell', 'Indian', 'WPO', 'Ross'], ordered=False)\n",
    "joyw = joyw.assign(sector=sectors_series)\n",
    "joyw"
   ]
  },
  {
   "cell_type": "code",
   "execution_count": 26,
   "metadata": {
    "collapsed": false
   },
   "outputs": [
    {
     "data": {
      "text/plain": "137"
     },
     "execution_count": 26,
     "metadata": {},
     "output_type": "execute_result"
    }
   ],
   "source": [
    "joyw.to_sql(name='sample', con=con, if_exists='append', index=False)\n",
    "microscopy.to_sql(name='microscopy', con=con, if_exists='append', index=False)"
   ]
  },
  {
   "cell_type": "markdown",
   "metadata": {
    "collapsed": false
   },
   "source": [
    "3) Phytobase\n",
    "- Link to source and info"
   ]
  },
  {
   "cell_type": "code",
   "execution_count": 27,
   "metadata": {
    "collapsed": false
   },
   "outputs": [
    {
     "data": {
      "text/plain": "      source_name  aphia_id                     name  latitude  longitude  \\\n0       phytobase  620590.0  Coccopterum labyrinthus  -41.0001   -74.4499   \n1       phytobase  620590.0  Coccopterum labyrinthus  -41.0001   -74.4499   \n2       phytobase  620590.0  Coccopterum labyrinthus  -41.0001   -74.4499   \n3       phytobase  620590.0  Coccopterum labyrinthus  -41.0001   -74.4499   \n4       phytobase  620590.0  Coccopterum labyrinthus  -41.0001   -74.4499   \n...           ...       ...                      ...       ...        ...   \n38278   phytobase       NaN           Picoeukaryotes  -39.9900    95.0100   \n38279   phytobase       NaN           Picoeukaryotes  -43.0000    95.0100   \n38280   phytobase       NaN           Picoeukaryotes  -43.0000    95.0100   \n38281   phytobase       NaN           Picoeukaryotes  -31.7500    95.0000   \n38282   phytobase       NaN           Picoeukaryotes  -31.7500    95.0000   \n\n       timestamp  depth front_zone sector  \n0     2002-04-12    0.0        SAZ     BA  \n1     2002-04-12    1.0        SAZ     BA  \n2     2002-04-12   10.0        SAZ     BA  \n3     2002-04-12   11.0        SAZ     BA  \n4     2002-04-12   12.0        SAZ     BA  \n...          ...    ...        ...    ...  \n38278 1995-09-29   51.0        STZ    WPO  \n38279 1995-09-28    0.0        STZ    WPO  \n38280 1995-09-28   48.0        STZ    WPO  \n38281 1995-10-02    0.0        STZ    WPO  \n38282 1995-10-02   53.0        STZ    WPO  \n\n[38438 rows x 9 columns]",
      "text/html": "<div>\n<style scoped>\n    .dataframe tbody tr th:only-of-type {\n        vertical-align: middle;\n    }\n\n    .dataframe tbody tr th {\n        vertical-align: top;\n    }\n\n    .dataframe thead th {\n        text-align: right;\n    }\n</style>\n<table border=\"1\" class=\"dataframe\">\n  <thead>\n    <tr style=\"text-align: right;\">\n      <th></th>\n      <th>source_name</th>\n      <th>aphia_id</th>\n      <th>name</th>\n      <th>latitude</th>\n      <th>longitude</th>\n      <th>timestamp</th>\n      <th>depth</th>\n      <th>front_zone</th>\n      <th>sector</th>\n    </tr>\n  </thead>\n  <tbody>\n    <tr>\n      <th>0</th>\n      <td>phytobase</td>\n      <td>620590.0</td>\n      <td>Coccopterum labyrinthus</td>\n      <td>-41.0001</td>\n      <td>-74.4499</td>\n      <td>2002-04-12</td>\n      <td>0.0</td>\n      <td>SAZ</td>\n      <td>BA</td>\n    </tr>\n    <tr>\n      <th>1</th>\n      <td>phytobase</td>\n      <td>620590.0</td>\n      <td>Coccopterum labyrinthus</td>\n      <td>-41.0001</td>\n      <td>-74.4499</td>\n      <td>2002-04-12</td>\n      <td>1.0</td>\n      <td>SAZ</td>\n      <td>BA</td>\n    </tr>\n    <tr>\n      <th>2</th>\n      <td>phytobase</td>\n      <td>620590.0</td>\n      <td>Coccopterum labyrinthus</td>\n      <td>-41.0001</td>\n      <td>-74.4499</td>\n      <td>2002-04-12</td>\n      <td>10.0</td>\n      <td>SAZ</td>\n      <td>BA</td>\n    </tr>\n    <tr>\n      <th>3</th>\n      <td>phytobase</td>\n      <td>620590.0</td>\n      <td>Coccopterum labyrinthus</td>\n      <td>-41.0001</td>\n      <td>-74.4499</td>\n      <td>2002-04-12</td>\n      <td>11.0</td>\n      <td>SAZ</td>\n      <td>BA</td>\n    </tr>\n    <tr>\n      <th>4</th>\n      <td>phytobase</td>\n      <td>620590.0</td>\n      <td>Coccopterum labyrinthus</td>\n      <td>-41.0001</td>\n      <td>-74.4499</td>\n      <td>2002-04-12</td>\n      <td>12.0</td>\n      <td>SAZ</td>\n      <td>BA</td>\n    </tr>\n    <tr>\n      <th>...</th>\n      <td>...</td>\n      <td>...</td>\n      <td>...</td>\n      <td>...</td>\n      <td>...</td>\n      <td>...</td>\n      <td>...</td>\n      <td>...</td>\n      <td>...</td>\n    </tr>\n    <tr>\n      <th>38278</th>\n      <td>phytobase</td>\n      <td>NaN</td>\n      <td>Picoeukaryotes</td>\n      <td>-39.9900</td>\n      <td>95.0100</td>\n      <td>1995-09-29</td>\n      <td>51.0</td>\n      <td>STZ</td>\n      <td>WPO</td>\n    </tr>\n    <tr>\n      <th>38279</th>\n      <td>phytobase</td>\n      <td>NaN</td>\n      <td>Picoeukaryotes</td>\n      <td>-43.0000</td>\n      <td>95.0100</td>\n      <td>1995-09-28</td>\n      <td>0.0</td>\n      <td>STZ</td>\n      <td>WPO</td>\n    </tr>\n    <tr>\n      <th>38280</th>\n      <td>phytobase</td>\n      <td>NaN</td>\n      <td>Picoeukaryotes</td>\n      <td>-43.0000</td>\n      <td>95.0100</td>\n      <td>1995-09-28</td>\n      <td>48.0</td>\n      <td>STZ</td>\n      <td>WPO</td>\n    </tr>\n    <tr>\n      <th>38281</th>\n      <td>phytobase</td>\n      <td>NaN</td>\n      <td>Picoeukaryotes</td>\n      <td>-31.7500</td>\n      <td>95.0000</td>\n      <td>1995-10-02</td>\n      <td>0.0</td>\n      <td>STZ</td>\n      <td>WPO</td>\n    </tr>\n    <tr>\n      <th>38282</th>\n      <td>phytobase</td>\n      <td>NaN</td>\n      <td>Picoeukaryotes</td>\n      <td>-31.7500</td>\n      <td>95.0000</td>\n      <td>1995-10-02</td>\n      <td>53.0</td>\n      <td>STZ</td>\n      <td>WPO</td>\n    </tr>\n  </tbody>\n</table>\n<p>38438 rows × 9 columns</p>\n</div>"
     },
     "execution_count": 27,
     "metadata": {},
     "output_type": "execute_result"
    }
   ],
   "source": [
    "phybase: DataFrame = pd.read_csv(phytobase_file)\n",
    "phybase['timestamp'] = pd.to_datetime(phybase['timestamp'], errors='coerce')\n",
    "# get full taxonomy of microscopy data as dataframe\n",
    "taxa: DataFrame = pd.read_csv(phytobase_worms_file)[['original', 'AphiaID']]\n",
    "# join on sample and taxonomy (by aphia_id), only keep cols in the occurrence table (filter out order, genus, etc)\n",
    "phybase = pd.merge(phybase, taxa, left_on='scientificname', right_on='original')\n",
    "phybase = phybase.rename(columns=worms_sql).filter(get_table_cols(\"occurrence\"))\n",
    "\n",
    "data_gdf = GeoDataFrame(phybase, geometry=gpd.points_from_xy(phybase['longitude'], phybase['latitude']), crs='EPSG:4326')\n",
    "data_gdf = data_gdf.to_crs(crs=ccrs.SouthPolarStereo())\n",
    "zones_gdf = gpd.read_file(zones_shapefile).to_crs(ccrs.SouthPolarStereo())\n",
    "# Spatially join data points with zones (polygons) to get labelled data\n",
    "phybase = DataFrame(data_gdf.sjoin(zones_gdf, how='left').drop(columns=['geometry', 'index_right']))\n",
    "sectors_series: Series = pd.cut(phybase['longitude'], bins=[-180, -130, -60, 20, 90, 160, 180],\n",
    "                                    labels=['Ross', 'BA', 'Weddell', 'Indian', 'WPO', 'Ross'], ordered=False)\n",
    "phybase = phybase.assign(sector=sectors_series)\n",
    "phybase"
   ]
  },
  {
   "cell_type": "code",
   "execution_count": 28,
   "metadata": {
    "collapsed": false
   },
   "outputs": [
    {
     "data": {
      "text/plain": "38438"
     },
     "execution_count": 28,
     "metadata": {},
     "output_type": "execute_result"
    }
   ],
   "source": [
    "phybase.to_sql(name='occurrence', con=con, if_exists='append', index=False)"
   ]
  },
  {
   "cell_type": "markdown",
   "source": [
    "# SQLite Database to Excel\n",
    "Converts all tables to Excel workbook with multiple sheets (tables)"
   ],
   "metadata": {
    "collapsed": false
   }
  },
  {
   "cell_type": "code",
   "execution_count": 35,
   "metadata": {
    "collapsed": false
   },
   "outputs": [],
   "source": [
    "writer = pd.ExcelWriter(sophy_xlsx_output, engine='xlsxwriter')\n",
    "# Convert the dataframe to an XlsxWriter Excel object.\n",
    "pd.read_sql('select * from sample', con=con).to_excel(writer, sheet_name='sample')\n",
    "pd.read_sql('select * from microscopy', con=con).to_excel(writer, sheet_name='microscopy')\n",
    "pd.read_sql('select * from occurrence', con=con).to_excel(writer, sheet_name='occurrence')\n",
    "get_taxonomy().to_excel(writer, sheet_name='taxonomy')\n",
    "pd.read_csv(units_csv).to_excel(writer, sheet_name='units')\n",
    "# Close the Pandas Excel writer and output the Excel file.\n",
    "writer.close()"
   ]
  },
  {
   "cell_type": "markdown",
   "source": [
    "4) Alderkamp dataset\n",
    "- Link to source and info"
   ],
   "metadata": {
    "collapsed": false
   }
  },
  {
   "cell_type": "code",
   "execution_count": null,
   "outputs": [],
   "source": [],
   "metadata": {
    "collapsed": false
   }
  },
  {
   "cell_type": "markdown",
   "metadata": {
    "collapsed": false
   },
   "source": [
    "5) Garibotti dataset\n",
    "- Link to source and info"
   ]
  },
  {
   "cell_type": "code",
   "execution_count": null,
   "metadata": {
    "collapsed": false
   },
   "outputs": [],
   "source": []
  },
  {
   "cell_type": "markdown",
   "metadata": {
    "collapsed": false
   },
   "source": []
  }
 ],
 "metadata": {
  "kernelspec": {
   "display_name": "Python 3",
   "language": "python",
   "name": "python3"
  },
  "language_info": {
   "codemirror_mode": {
    "name": "ipython",
    "version": 3
   },
   "file_extension": ".py",
   "mimetype": "text/x-python",
   "name": "python",
   "nbconvert_exporter": "python",
   "pygments_lexer": "ipython3",
   "version": "3.10.8"
  },
  "vscode": {
   "interpreter": {
    "hash": "b5a161a6368859e3eadb98cca106433d079d50eb5df0ef7500750a84ba1cc1aa"
   }
  }
 },
 "nbformat": 4,
 "nbformat_minor": 0
}
